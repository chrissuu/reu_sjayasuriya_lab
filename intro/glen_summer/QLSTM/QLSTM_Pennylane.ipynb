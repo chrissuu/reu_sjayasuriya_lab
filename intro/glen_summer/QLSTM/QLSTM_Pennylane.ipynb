{
  "nbformat": 4,
  "nbformat_minor": 0,
  "metadata": {
    "colab": {
      "provenance": []
    },
    "kernelspec": {
      "name": "python3",
      "display_name": "Python 3"
    },
    "language_info": {
      "name": "python"
    }
  },
  "cells": [
    {
      "cell_type": "code",
      "execution_count": null,
      "metadata": {
        "id": "49jL2iVe8J0k"
      },
      "outputs": [],
      "source": [
        "!pip install pennylane pennylane-qiskit"
      ]
    },
    {
      "cell_type": "code",
      "source": [
        "import torch\n",
        "import torch.nn as nn\n",
        "\n",
        "import pennylane as qml\n",
        "\n",
        "class QLSTM(nn.Module):\n",
        "    def __init__(self,\n",
        "                input_size,\n",
        "                hidden_size,\n",
        "                n_qubits=4,\n",
        "                n_qlayers=1,\n",
        "                batch_first=True,\n",
        "                return_sequences=False,\n",
        "                return_state=False,\n",
        "                backend=\"default.qubit\"):\n",
        "        super(QLSTM, self).__init__()\n",
        "        self.n_inputs = input_size\n",
        "        self.hidden_size = hidden_size\n",
        "        self.concat_size = self.n_inputs + self.hidden_size\n",
        "        self.n_qubits = n_qubits\n",
        "        self.n_qlayers = n_qlayers\n",
        "        self.backend = backend  # \"default.qubit\", \"qiskit.basicaer\", \"qiskit.ibm\"\n",
        "\n",
        "        self.batch_first = batch_first\n",
        "        self.return_sequences = return_sequences\n",
        "        self.return_state = return_state\n",
        "\n",
        "        #self.dev = qml.device(\"default.qubit\", wires=self.n_qubits)\n",
        "        #self.dev = qml.device('qiskit.basicaer', wires=self.n_qubits)\n",
        "        #self.dev = qml.device('qiskit.ibm', wires=self.n_qubits)\n",
        "        self.dev = qml.device('qiskit.aer', wires=2, backend='statevector_simulator')\n",
        "        # use 'qiskit.ibmq' instead to run on hardware\n",
        "\n",
        "        self.wires_forget = [f\"wire_forget_{i}\" for i in range(self.n_qubits)]\n",
        "        self.wires_input = [f\"wire_input_{i}\" for i in range(self.n_qubits)]\n",
        "        self.wires_update = [f\"wire_update_{i}\" for i in range(self.n_qubits)]\n",
        "        self.wires_output = [f\"wire_output_{i}\" for i in range(self.n_qubits)]\n",
        "\n",
        "        self.dev_forget = qml.device(self.backend, wires=self.wires_forget)\n",
        "        self.dev_input = qml.device(self.backend, wires=self.wires_input)\n",
        "        self.dev_update = qml.device(self.backend, wires=self.wires_update)\n",
        "        self.dev_output = qml.device(self.backend, wires=self.wires_output)\n",
        "\n",
        "        def _circuit_forget(inputs, weights):\n",
        "            qml.templates.AngleEmbedding(inputs, wires=self.wires_forget)\n",
        "            qml.templates.BasicEntanglerLayers(weights, wires=self.wires_forget)\n",
        "            return [qml.expval(qml.PauliZ(wires=w)) for w in self.wires_forget]\n",
        "        self.qlayer_forget = qml.QNode(_circuit_forget, self.dev_forget, interface=\"torch\")\n",
        "\n",
        "        def _circuit_input(inputs, weights):\n",
        "            qml.templates.AngleEmbedding(inputs, wires=self.wires_input)\n",
        "            qml.templates.BasicEntanglerLayers(weights, wires=self.wires_input)\n",
        "            return [qml.expval(qml.PauliZ(wires=w)) for w in self.wires_input]\n",
        "        self.qlayer_input = qml.QNode(_circuit_input, self.dev_input, interface=\"torch\")\n",
        "\n",
        "        def _circuit_update(inputs, weights):\n",
        "            qml.templates.AngleEmbedding(inputs, wires=self.wires_update)\n",
        "            qml.templates.BasicEntanglerLayers(weights, wires=self.wires_update)\n",
        "            return [qml.expval(qml.PauliZ(wires=w)) for w in self.wires_update]\n",
        "        self.qlayer_update = qml.QNode(_circuit_update, self.dev_update, interface=\"torch\")\n",
        "\n",
        "        def _circuit_output(inputs, weights):\n",
        "            qml.templates.AngleEmbedding(inputs, wires=self.wires_output)\n",
        "            qml.templates.BasicEntanglerLayers(weights, wires=self.wires_output)\n",
        "            return [qml.expval(qml.PauliZ(wires=w)) for w in self.wires_output]\n",
        "        self.qlayer_output = qml.QNode(_circuit_output, self.dev_output, interface=\"torch\")\n",
        "\n",
        "        weight_shapes = {\"weights\": (n_qlayers, n_qubits)}\n",
        "        print(f\"weight_shapes = (n_qlayers, n_qubits) = ({n_qlayers}, {n_qubits})\")\n",
        "\n",
        "        self.clayer_in = torch.nn.Linear(self.concat_size, n_qubits)\n",
        "        self.VQC = {\n",
        "            'forget': qml.qnn.TorchLayer(self.qlayer_forget, weight_shapes),\n",
        "            'input': qml.qnn.TorchLayer(self.qlayer_input, weight_shapes),\n",
        "            'update': qml.qnn.TorchLayer(self.qlayer_update, weight_shapes),\n",
        "            'output': qml.qnn.TorchLayer(self.qlayer_output, weight_shapes)\n",
        "        }\n",
        "        self.clayer_out = torch.nn.Linear(self.n_qubits, self.hidden_size)\n",
        "        #self.clayer_out = [torch.nn.Linear(n_qubits, self.hidden_size) for _ in range(4)]\n",
        "\n",
        "    def forward(self, x, init_states=None):\n",
        "        '''\n",
        "        x.shape is (batch_size, seq_length, feature_size)\n",
        "        recurrent_activation -> sigmoid\n",
        "        activation -> tanh\n",
        "        '''\n",
        "        if self.batch_first is True:\n",
        "            batch_size, seq_length, features_size = x.size()\n",
        "        else:\n",
        "            seq_length, batch_size, features_size = x.size()\n",
        "\n",
        "        hidden_seq = []\n",
        "        if init_states is None:\n",
        "            h_t = torch.zeros(batch_size, self.hidden_size)  # hidden state (output)\n",
        "            c_t = torch.zeros(batch_size, self.hidden_size)  # cell state\n",
        "        else:\n",
        "            # for now we ignore the fact that in PyTorch you can stack multiple RNNs\n",
        "            # so we take only the first elements of the init_states tuple init_states[0][0], init_states[1][0]\n",
        "            h_t, c_t = init_states\n",
        "            h_t = h_t[0]\n",
        "            c_t = c_t[0]\n",
        "\n",
        "        for t in range(seq_length):\n",
        "            # get features from the t-th element in seq, for all entries in the batch\n",
        "            x_t = x[:, t, :]\n",
        "\n",
        "            # Concatenate input and hidden state\n",
        "            v_t = torch.cat((h_t, x_t), dim=1)\n",
        "\n",
        "            # match qubit dimension\n",
        "            y_t = self.clayer_in(v_t)\n",
        "\n",
        "            f_t = torch.sigmoid(self.clayer_out(self.VQC['forget'](y_t)))  # forget block\n",
        "            i_t = torch.sigmoid(self.clayer_out(self.VQC['input'](y_t)))  # input block\n",
        "            g_t = torch.tanh(self.clayer_out(self.VQC['update'](y_t)))  # update block\n",
        "            o_t = torch.sigmoid(self.clayer_out(self.VQC['output'](y_t))) # output block\n",
        "\n",
        "            c_t = (f_t * c_t) + (i_t * g_t)\n",
        "            h_t = o_t * torch.tanh(c_t)\n",
        "\n",
        "            hidden_seq.append(h_t.unsqueeze(0))\n",
        "        hidden_seq = torch.cat(hidden_seq, dim=0)\n",
        "        hidden_seq = hidden_seq.transpose(0, 1).contiguous()\n",
        "        return hidden_seq, (h_t, c_t)"
      ],
      "metadata": {
        "id": "yZpFCLVe9kAc"
      },
      "execution_count": null,
      "outputs": []
    },
    {
      "cell_type": "code",
      "source": [
        "import numpy as np\n",
        "\n",
        "import torch.nn.functional as F\n",
        "import torch.optim as optim"
      ],
      "metadata": {
        "id": "Y50rcl8F8WHI"
      },
      "execution_count": null,
      "outputs": []
    },
    {
      "cell_type": "markdown",
      "source": [
        "Here we define the possible tags: determinant, noun, verb."
      ],
      "metadata": {
        "id": "QCJFq-bA95UN"
      }
    },
    {
      "cell_type": "code",
      "source": [
        "tag_to_ix = {\"DET\": 0, \"NN\": 1, \"V\": 2}  # Assign each tag with a unique index\n",
        "ix_to_tag = {i:k for k,i in tag_to_ix.items()}"
      ],
      "metadata": {
        "id": "16ez_fKi917Q"
      },
      "execution_count": null,
      "outputs": []
    },
    {
      "cell_type": "markdown",
      "source": [
        "Tokenize"
      ],
      "metadata": {
        "id": "GwnU1xyJ99Tp"
      }
    },
    {
      "cell_type": "code",
      "source": [
        "def prepare_sequence(seq, to_ix):\n",
        "    idxs = [to_ix[w] for w in seq]\n",
        "    return torch.tensor(idxs, dtype=torch.long)"
      ],
      "metadata": {
        "id": "KvgtZQR_95_a"
      },
      "execution_count": null,
      "outputs": []
    },
    {
      "cell_type": "markdown",
      "source": [
        "Prepare the input"
      ],
      "metadata": {
        "id": "hsxwVhl89-eZ"
      }
    },
    {
      "cell_type": "code",
      "source": [
        "training_data = [\n",
        "    # Tags are: DET - determiner; NN - noun; V - verb\n",
        "    # For example, the word \"The\" is a determiner\n",
        "    (\"The dog ate the apple\".split(), [\"DET\", \"NN\", \"V\", \"DET\", \"NN\"]),\n",
        "    (\"Everybody read that book\".split(), [\"NN\", \"V\", \"DET\", \"NN\"])\n",
        "]\n",
        "word_to_ix = {}\n",
        "\n",
        "# For each words-list (sentence) and tags-list in each tuple of training_data\n",
        "for sent, tags in training_data:\n",
        "    for word in sent:\n",
        "        if word not in word_to_ix:  # word has not been assigned an index yet\n",
        "            word_to_ix[word] = len(word_to_ix)  # Assign each word with a unique index\n",
        "\n",
        "print(f\"Vocabulary: {word_to_ix}\")\n",
        "print(f\"Entities: {ix_to_tag}\")"
      ],
      "metadata": {
        "colab": {
          "base_uri": "https://localhost:8080/"
        },
        "id": "fu0xqguf-B5T",
        "outputId": "535120a4-f6d6-4bbe-9ade-1958e2dcf44b"
      },
      "execution_count": null,
      "outputs": [
        {
          "output_type": "stream",
          "name": "stdout",
          "text": [
            "Vocabulary: {'The': 0, 'dog': 1, 'ate': 2, 'the': 3, 'apple': 4, 'Everybody': 5, 'read': 6, 'that': 7, 'book': 8}\n",
            "Entities: {0: 'DET', 1: 'NN', 2: 'V'}\n"
          ]
        }
      ]
    },
    {
      "cell_type": "code",
      "source": [
        "class LSTMTagger(nn.Module):\n",
        "\n",
        "    def __init__(self, embedding_dim, hidden_dim, vocab_size, tagset_size, n_qubits=0):\n",
        "        super(LSTMTagger, self).__init__()\n",
        "        self.hidden_dim = hidden_dim\n",
        "\n",
        "        self.word_embeddings = nn.Embedding(vocab_size, embedding_dim)\n",
        "\n",
        "        # The LSTM takes word embeddings as inputs, and outputs hidden states\n",
        "        # with dimensionality hidden_dim.\n",
        "        if n_qubits > 0:\n",
        "            print(\"Tagger will use Quantum LSTM\")\n",
        "            self.lstm = QLSTM(embedding_dim, hidden_dim, n_qubits=n_qubits, backend=\"qiskit.aer\")\n",
        "        else:\n",
        "            print(\"Tagger will use Classical LSTM\")\n",
        "            self.lstm = nn.LSTM(embedding_dim, hidden_dim)\n",
        "\n",
        "        # The linear layer that maps from hidden state space to tag space\n",
        "        self.hidden2tag = nn.Linear(hidden_dim, tagset_size)\n",
        "\n",
        "    def forward(self, sentence):\n",
        "        embeds = self.word_embeddings(sentence)\n",
        "        lstm_out, _ = self.lstm(embeds.view(len(sentence), 1, -1))\n",
        "        tag_logits = self.hidden2tag(lstm_out.view(len(sentence), -1))\n",
        "        tag_scores = F.log_softmax(tag_logits, dim=1)\n",
        "        return tag_scores\n"
      ],
      "metadata": {
        "id": "e0vqRhyH-K53"
      },
      "execution_count": null,
      "outputs": []
    },
    {
      "cell_type": "code",
      "source": [
        "embedding_dim = 8\n",
        "hidden_dim = 6\n",
        "n_epochs = 300"
      ],
      "metadata": {
        "id": "zRI25j3X-OtI"
      },
      "execution_count": null,
      "outputs": []
    },
    {
      "cell_type": "code",
      "source": [
        "model_classical = LSTMTagger(embedding_dim,\n",
        "                        hidden_dim,\n",
        "                        vocab_size=len(word_to_ix),\n",
        "                        tagset_size=len(tag_to_ix),\n",
        "                        n_qubits=0)"
      ],
      "metadata": {
        "colab": {
          "base_uri": "https://localhost:8080/"
        },
        "id": "84QaGgX2-QKV",
        "outputId": "0847a2af-d03b-4bc2-9d1c-ff755515950e"
      },
      "execution_count": null,
      "outputs": [
        {
          "output_type": "stream",
          "name": "stdout",
          "text": [
            "Tagger will use Classical LSTM\n"
          ]
        }
      ]
    },
    {
      "cell_type": "markdown",
      "source": [
        "#Classical"
      ],
      "metadata": {
        "id": "37Vqiuxu-TTL"
      }
    },
    {
      "cell_type": "markdown",
      "source": [
        "##Training"
      ],
      "metadata": {
        "id": "8chSOL_t-ZPS"
      }
    },
    {
      "cell_type": "code",
      "source": [
        "def train(model, n_epochs):\n",
        "    loss_function = nn.NLLLoss()\n",
        "    optimizer = optim.SGD(model.parameters(), lr=0.1)\n",
        "\n",
        "    history = {\n",
        "        'loss': [],\n",
        "        'acc': []\n",
        "    }\n",
        "    for epoch in range(n_epochs):\n",
        "        losses = []\n",
        "        preds = []\n",
        "        targets = []\n",
        "        for sentence, tags in training_data:\n",
        "            # Step 1. Remember that Pytorch accumulates gradients.\n",
        "            # We need to clear them out before each instance\n",
        "            model.zero_grad()\n",
        "\n",
        "            # Step 2. Get our inputs ready for the network, that is, turn them into\n",
        "            # Tensors of word indices.\n",
        "            sentence_in = prepare_sequence(sentence, word_to_ix)\n",
        "            labels = prepare_sequence(tags, tag_to_ix)\n",
        "\n",
        "            # Step 3. Run our forward pass.\n",
        "            tag_scores = model(sentence_in)\n",
        "\n",
        "            # Step 4. Compute the loss, gradients, and update the parameters by\n",
        "            #  calling optimizer.step()\n",
        "            loss = loss_function(tag_scores, labels)\n",
        "            loss.backward()\n",
        "            optimizer.step()\n",
        "            losses.append(float(loss))\n",
        "\n",
        "            probs = torch.softmax(tag_scores, dim=-1)\n",
        "            preds.append(probs.argmax(dim=-1))\n",
        "            targets.append(labels)\n",
        "\n",
        "        avg_loss = np.mean(losses)\n",
        "        history['loss'].append(avg_loss)\n",
        "\n",
        "        preds = torch.cat(preds)\n",
        "        targets = torch.cat(targets)\n",
        "        corrects = (preds == targets)\n",
        "        accuracy = corrects.sum().float() / float(targets.size(0) )\n",
        "        history['acc'].append(accuracy)\n",
        "\n",
        "        print(f\"Epoch {epoch+1} / {n_epochs}: Loss = {avg_loss:.3f} Acc = {accuracy:.2f}\")\n",
        "\n",
        "    return history"
      ],
      "metadata": {
        "id": "Mw1-bksk-UxW"
      },
      "execution_count": null,
      "outputs": []
    },
    {
      "cell_type": "code",
      "source": [
        "history_classical = train(model_classical, n_epochs)"
      ],
      "metadata": {
        "id": "cwvEpXho-axl"
      },
      "execution_count": null,
      "outputs": []
    },
    {
      "cell_type": "code",
      "source": [
        "def print_result(model):\n",
        "    with torch.no_grad():\n",
        "        input_sentence = training_data[0][0]\n",
        "        labels = training_data[0][1]\n",
        "        inputs = prepare_sequence(input_sentence, word_to_ix)\n",
        "        tag_scores = model(inputs)\n",
        "\n",
        "        tag_ids = torch.argmax(tag_scores, dim=1).numpy()\n",
        "        tag_labels = [ix_to_tag[k] for k in tag_ids]\n",
        "        print(f\"Sentence:  {input_sentence}\")\n",
        "        print(f\"Labels:    {labels}\")\n",
        "        print(f\"Predicted: {tag_labels}\")"
      ],
      "metadata": {
        "id": "-1cDzLDH-hzt"
      },
      "execution_count": null,
      "outputs": []
    },
    {
      "cell_type": "code",
      "source": [
        "print_result(model_classical)"
      ],
      "metadata": {
        "id": "wZPSEqnV-jK6"
      },
      "execution_count": null,
      "outputs": []
    },
    {
      "cell_type": "markdown",
      "source": [
        "#Quantum"
      ],
      "metadata": {
        "id": "3xUwqq3c-mWI"
      }
    },
    {
      "cell_type": "markdown",
      "source": [
        "##Setup"
      ],
      "metadata": {
        "id": "HrjkqnRJ-n_z"
      }
    },
    {
      "cell_type": "code",
      "source": [
        "n_qubits = 4\n",
        "\n",
        "model_quantum = LSTMTagger(embedding_dim,\n",
        "                        hidden_dim,\n",
        "                        vocab_size=len(word_to_ix),\n",
        "                        tagset_size=len(tag_to_ix),\n",
        "                        n_qubits=n_qubits)"
      ],
      "metadata": {
        "id": "5Tyt3xps-pm6"
      },
      "execution_count": null,
      "outputs": []
    },
    {
      "cell_type": "code",
      "source": [
        "history_quantum = train(model_quantum, n_epochs)"
      ],
      "metadata": {
        "id": "F6iUblXV-s9F"
      },
      "execution_count": null,
      "outputs": []
    },
    {
      "cell_type": "code",
      "source": [
        "print_result(model_quantum)"
      ],
      "metadata": {
        "id": "C3tHmz_j-ykP"
      },
      "execution_count": null,
      "outputs": []
    },
    {
      "cell_type": "markdown",
      "source": [
        "#Training History"
      ],
      "metadata": {
        "id": "s6stohyb-266"
      }
    },
    {
      "cell_type": "code",
      "source": [
        "from matplotlib import pyplot as plt\n",
        "\n",
        "def plot_history(history_classical, history_quantum):\n",
        "    loss_c = history_classical['loss']\n",
        "    acc_c = history_classical['acc']\n",
        "    loss_q = history_quantum['loss']\n",
        "    acc_q = history_quantum['acc']\n",
        "    n_epochs = max([len(loss_c), len(loss_q)])\n",
        "    x_epochs = [i for i in range(n_epochs)]\n",
        "\n",
        "    fig, ax1 = plt.subplots()\n",
        "\n",
        "    ax1.set_xlabel(\"Epoch\")\n",
        "    ax1.set_ylabel(\"Loss\")\n",
        "    ax1.plot(loss_c, label=\"Classical LSTM loss\", color='orange', linestyle='dashed')\n",
        "    ax1.plot(loss_q, label=\"Quantum LSTM loss\", color='red', linestyle='solid')\n",
        "\n",
        "    ax2 = ax1.twinx()\n",
        "    ax2.set_ylabel(\"Accuracy\")\n",
        "    ax2.plot(acc_c, label=\"Classical LSTM accuracy\", color='steelblue', linestyle='dashed')\n",
        "    ax2.plot(acc_q, label=\"Quantum LSTM accuracy\", color='blue', linestyle='solid')\n",
        "\n",
        "    plt.title(\"Part-of-Speech Tagger Training\")\n",
        "    plt.ylim(0., 1.1)\n",
        "    #plt.legend(loc=\"upper right\")\n",
        "    fig.legend(loc=\"upper right\", bbox_to_anchor=(1,0.8), bbox_transform=ax1.transAxes)\n",
        "\n",
        "    plt.savefig(\"pos_training.pdf\")\n",
        "    plt.savefig(\"pos_training.png\")\n",
        "    plt.show()\n"
      ],
      "metadata": {
        "id": "EEozcokK-4hw"
      },
      "execution_count": null,
      "outputs": []
    },
    {
      "cell_type": "code",
      "source": [
        "plot_history(history_classical, history_quantum)"
      ],
      "metadata": {
        "colab": {
          "base_uri": "https://localhost:8080/",
          "height": 472
        },
        "id": "PtAUO2AK-7pa",
        "outputId": "c861ffaf-cd7b-4754-c3e5-c855c9a8c7b6"
      },
      "execution_count": null,
      "outputs": [
        {
          "output_type": "display_data",
          "data": {
            "text/plain": [
              "<Figure size 640x480 with 2 Axes>"
            ],
            "image/png": "[encoded data removed]"
          },
          "metadata": {}
        }
      ]
    }
  ]
}
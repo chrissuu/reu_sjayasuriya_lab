{
  "cells": [
    {
      "cell_type": "markdown",
      "metadata": {
        "id": "63AyBwr1SuF6"
      },
      "source": [
        "## Libraries"
      ]
    },
    {
      "cell_type": "code",
      "execution_count": null,
      "metadata": {
        "id": "lN5z6R8-SLCP"
      },
      "outputs": [],
      "source": [
        "import pandas as pd\n",
        "import numpy as np\n",
        "from keras.models import Sequential\n",
        "from keras.layers import Dense, LSTM, SimpleRNN, BatchNormalization\n",
        "from keras.wrappers.scikit_learn import KerasClassifier\n",
        "from keras.utils import np_utils\n",
        "from sklearn.preprocessing import LabelEncoder\n",
        "from sklearn.model_selection import train_test_split"
      ]
    },
    {
      "cell_type": "markdown",
      "metadata": {
        "id": "8EvI02S8S_cB"
      },
      "source": [
        "## Dataset"
      ]
    },
    {
      "cell_type": "code",
      "execution_count": null,
      "metadata": {
        "colab": {
          "background_save": true
        },
        "id": "5a4CRGarTWBj"
      },
      "outputs": [],
      "source": [
        "from google.colab import drive\n",
        "\n",
        "drive.mount('/content/drive/', force_remount=True)\n",
        "%cd '/content/drive/My Drive/IRES Collabs/Data/'"
      ]
    },
    {
      "cell_type": "code",
      "execution_count": null,
      "metadata": {
        "id": "PRzRZ6lHTBHU"
      },
      "outputs": [],
      "source": [
        "df = pd.read_csv(\"df_track.csv\")\n",
        "X=np.array(df.iloc[:,1:215])\n",
        "Y=np.array(df.iloc[:,217])"
      ]
    },
    {
      "cell_type": "code",
      "execution_count": null,
      "metadata": {
        "id": "CMHe8vjKTlNT"
      },
      "outputs": [],
      "source": [
        "x=X.reshape(X.shape+(1,))"
      ]
    },
    {
      "cell_type": "code",
      "execution_count": null,
      "metadata": {
        "id": "Vzmu3JqZTrMo"
      },
      "outputs": [],
      "source": [
        "y=np_utils.to_categorical(Y)\n",
        "print(y[:5])"
      ]
    },
    {
      "cell_type": "markdown",
      "metadata": {
        "id": "Kt4WJ0KwVfG8"
      },
      "source": [
        "## Train/Spit"
      ]
    },
    {
      "cell_type": "code",
      "execution_count": null,
      "metadata": {
        "id": "lNEG-rp1VRkj"
      },
      "outputs": [],
      "source": [
        "x_train,x_test, y_train, y_test=train_test_split(x,y,test_size=0.20)"
      ]
    },
    {
      "cell_type": "markdown",
      "metadata": {
        "id": "sVAW7AgRVg8Y"
      },
      "source": [
        "## Model"
      ]
    },
    {
      "cell_type": "code",
      "execution_count": null,
      "metadata": {
        "colab": {
          "background_save": true
        },
        "id": "8QM12Ooabt4B"
      },
      "outputs": [],
      "source": [
        "early_stop = EarlyStopping(monitor='val_loss', mode='min',\n",
        "                           verbose=1, patience=10, min_delta=0.0001)\n",
        "\n",
        "checkpoint = ModelCheckpoint('best_lstm_demo.hdf5', monitor='val_accuracy',\n",
        "                             verbose=1, save_best_only=True, mode='max')"
      ]
    },
    {
      "cell_type": "code",
      "execution_count": null,
      "metadata": {
        "id": "Dc68GsXyViEO"
      },
      "outputs": [],
      "source": [
        "model = Sequential()\n",
        "model.add(BatchNormalization())\n",
        "model.add(LSTM(128))\n",
        "model.add(Dense(2,activation='softmax'))\n",
        "model.compile(loss='categorical_crossentropy', optimizer='adam',metrics=['accuracy'])\n",
        "model.build()\n",
        "model.summary()"
      ]
    },
    {
      "cell_type": "code",
      "execution_count": null,
      "metadata": {
        "id": "8IFPJN0bcJQn"
      },
      "outputs": [],
      "source": [
        "model.fit(x_train,y_train,epochs=50,validation_data=(x_test,y_test),verbose=1)"
      ]
    },
    {
      "cell_type": "code",
      "execution_count": null,
      "metadata": {
        "id": "K24_U-peb1Hw"
      },
      "outputs": [],
      "source": [
        "lstm_history = model.fit(\n",
        "    x=x_train,\n",
        "    y=y_train,\n",
        "    epochs=50,\n",
        "    callbacks=[checkpoint],\n",
        "    validation_data=(x_test,y_test)m\n",
        "    verbose = 1\n",
        ")\n",
        "\n",
        "\n",
        "keras.models.save_model(modelx, 'checkpoints/'+ data_ix + '_base_model_demo.hdf5')\n",
        "model.save('lstm_full_demo.hdf5')"
      ]
    },
    {
      "cell_type": "markdown",
      "metadata": {
        "id": "spHNd38yWbkQ"
      },
      "source": [
        "## Test"
      ]
    },
    {
      "cell_type": "code",
      "execution_count": null,
      "metadata": {
        "id": "Tt229TazWTgN"
      },
      "outputs": [],
      "source": [
        "_,test_acc = model.evaluate(x_test,y_test)"
      ]
    },
    {
      "cell_type": "markdown",
      "metadata": {
        "id": "sqMx8plKXxQM"
      },
      "source": [
        "# SVC"
      ]
    },
    {
      "cell_type": "code",
      "execution_count": null,
      "metadata": {
        "id": "F57iugAcXzCp"
      },
      "outputs": [],
      "source": [
        "from sklearn.svm import SVC\n",
        "\n",
        "svc = SVC()\n",
        "_ = svc.fit(x_train, y_train)  # suppress printing the return value"
      ]
    },
    {
      "cell_type": "code",
      "execution_count": null,
      "metadata": {
        "id": "1Lye5nN1X2e8"
      },
      "outputs": [],
      "source": [
        "#predict from model\n",
        "\n",
        "pred=svc.predict(x_test)"
      ]
    },
    {
      "cell_type": "code",
      "execution_count": null,
      "metadata": {
        "id": "oiD6Djb6X6CK"
      },
      "outputs": [],
      "source": [
        "train_score_c4 = svc.score(x_train,y_train)\n",
        "test_score_c4 = svc.score(x_test, y_test)\n",
        "\n",
        "print(f\"Classical SVC on the training dataset: {train_score_c4:.2f}\")\n",
        "print(f\"Classical SVC on the test dataset:     {test_score_c4:.2f}\")"
      ]
    },
    {
      "cell_type": "markdown",
      "metadata": {
        "id": "VtU_xM0-aGaU"
      },
      "source": [
        "#RNN"
      ]
    },
    {
      "cell_type": "code",
      "execution_count": null,
      "metadata": {
        "id": "lmXuiz_BaH8V"
      },
      "outputs": [],
      "source": [
        "modelRnn = Sequential()\n",
        "modelRnn.add(BatchNormalization())\n",
        "modelRnn.add(SimpleRNN(128, return_sequences=True))\n",
        "modelRnn.add(SimpleRNN(128, return_sequences=True))\n",
        "modelRnn.add(SimpleRNN(128, return_sequences=False))\n",
        "modelRnn.add(Dense(2,activation='softmax'))\n",
        "modelRnn.compile(loss='categorical_crossentropy', optimizer='adam',metrics=['accuracy'])\n",
        "modelRnn.build()\n",
        "modelRnn.summary()\n",
        "modelRnn.fit(x_train,y_train,epochs=50,validation_data=(x_test,y_test),verbose=1)"
      ]
    }
  ],
  "metadata": {
    "colab": {
      "provenance": []
    },
    "kernelspec": {
      "display_name": "Python 3",
      "name": "python3"
    },
    "language_info": {
      "name": "python"
    }
  },
  "nbformat": 4,
  "nbformat_minor": 0
}
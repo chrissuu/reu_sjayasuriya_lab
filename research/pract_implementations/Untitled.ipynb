{
 "cells": [
  {
   "cell_type": "code",
   "execution_count": 31,
   "id": "81a704c4-3e6f-4a36-900e-074fee9bf9c3",
   "metadata": {},
   "outputs": [],
   "source": [
    "import torch\n",
    "import torchvision.transforms as transforms\n",
    "from torchvision.datasets import ImageFolder\n",
    "from torch.utils.data import DataLoader\n",
    "\n",
    "import numpy as np"
   ]
  },
  {
   "cell_type": "code",
   "execution_count": 32,
   "id": "983787cb-6f09-4a86-b514-5b553fef5aff",
   "metadata": {},
   "outputs": [],
   "source": [
    "transform = transforms.Compose([\n",
    "    transforms.ToTensor()\n",
    "])\n",
    "\n",
    "train_dataset_path = '~/Desktop/research_data/SARscope/train_data'\n",
    "test_dataset_path = '~/Desktop/research_data/SARscope/test_data'\n",
    "\n",
    "dataset_train = ImageFolder(root = train_dataset_path, transform = transform)\n",
    "dataset_test = ImageFolder(root = test_dataset_path, transform = transform)\n",
    "\n",
    "batch_size = 32\n",
    "dataloader_train = DataLoader(dataset_train, batch_size = batch_size, shuffle = True)\n",
    "dataloader_test = DataLoader(dataset_test, batch_size = batch_size, shuffle = True)\n"
   ]
  },
  {
   "cell_type": "code",
   "execution_count": 33,
   "id": "569e5977-c977-41ff-849e-2204b8a0a891",
   "metadata": {},
   "outputs": [
    {
     "name": "stdout",
     "output_type": "stream",
     "text": [
      "shape:  torch.Size([3, 640, 640])\n"
     ]
    }
   ],
   "source": [
    "print(\"shape: \", dataset_train[0][0].shape)"
   ]
  },
  {
   "cell_type": "code",
   "execution_count": 34,
   "id": "df864e2e-cf6e-4b62-9470-cdc5db050f94",
   "metadata": {},
   "outputs": [
    {
     "name": "stdout",
     "output_type": "stream",
     "text": [
      "Using cuda device\n"
     ]
    }
   ],
   "source": [
    "device = (\n",
    "    \"cuda\"\n",
    "    if torch.cuda.is_available()\n",
    "    else \"mps\"\n",
    "    if torch.backends.mps.is_available()\n",
    "    else \"cpu\"\n",
    ")\n",
    "print(f\"Using {device} device\")"
   ]
  },
  {
   "cell_type": "code",
   "execution_count": 35,
   "id": "15ff645d-6181-4cf3-8c69-bc13e65bfb08",
   "metadata": {},
   "outputs": [
    {
     "name": "stdout",
     "output_type": "stream",
     "text": [
      "tensor(True)\n"
     ]
    }
   ],
   "source": [
    "print(dataset_train[0][0][1].sum() == dataset_train[0][0][0].sum())"
   ]
  },
  {
   "cell_type": "code",
   "execution_count": 36,
   "id": "45df016f-9241-4e76-ad4b-c7c6425bf9e6",
   "metadata": {},
   "outputs": [],
   "source": [
    "import torch.nn as nn"
   ]
  },
  {
   "cell_type": "code",
   "execution_count": 39,
   "id": "affb5527-17e8-4b23-86be-2d71757900f8",
   "metadata": {},
   "outputs": [],
   "source": [
    "def relu(x):\n",
    "    return nn.ReLU(x)\n",
    "\n",
    "def curly_N(x):\n",
    "    return (x - np.min(x)) / (np.max(x) - np.min(x))\n",
    "\n",
    "def curly_Nprime(w):\n",
    "    return (w - np.min(w) + 1) / (np.max(w) - np.min(w) + 2)\n",
    "\n",
    "\n",
    "def f_VHN(x, w):\n",
    "    return relu(curly_N(x)) * relu(curly_Nprime(w))"
   ]
  },
  {
   "cell_type": "code",
   "execution_count": null,
   "id": "57f8a629-c06d-48b1-aa1c-83159d66fa6c",
   "metadata": {},
   "outputs": [],
   "source": []
  }
 ],
 "metadata": {
  "kernelspec": {
   "display_name": "Python 3 (ipykernel)",
   "language": "python",
   "name": "python3"
  },
  "language_info": {
   "codemirror_mode": {
    "name": "ipython",
    "version": 3
   },
   "file_extension": ".py",
   "mimetype": "text/x-python",
   "name": "python",
   "nbconvert_exporter": "python",
   "pygments_lexer": "ipython3",
   "version": "3.11.7"
  }
 },
 "nbformat": 4,
 "nbformat_minor": 5
}

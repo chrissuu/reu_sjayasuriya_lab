{
 "cells": [
  {
   "cell_type": "code",
   "execution_count": 44,
   "id": "81a704c4-3e6f-4a36-900e-074fee9bf9c3",
   "metadata": {},
   "outputs": [],
   "source": [
    "import torch\n",
    "import torchvision.transforms as transforms\n",
    "from torchvision.datasets import ImageFolder\n",
    "from torch.utils.data import DataLoader\n",
    "\n",
    "import math\n",
    "import torch.nn.functional as F\n",
    "import numpy as np"
   ]
  },
  {
   "cell_type": "code",
   "execution_count": 45,
   "id": "983787cb-6f09-4a86-b514-5b553fef5aff",
   "metadata": {},
   "outputs": [],
   "source": [
    "transform = transforms.Compose([\n",
    "    transforms.ToTensor()\n",
    "])\n",
    "\n",
    "train_dataset_path = '~/Desktop/research_data/SARscope/train_data'\n",
    "test_dataset_path = '~/Desktop/research_data/SARscope/test_data'\n",
    "\n",
    "dataset_train = ImageFolder(root = train_dataset_path, transform = transform)\n",
    "dataset_test = ImageFolder(root = test_dataset_path, transform = transform)\n",
    "\n",
    "batch_size = 32\n",
    "dataloader_train = DataLoader(dataset_train, batch_size = batch_size, shuffle = True)\n",
    "dataloader_test = DataLoader(dataset_test, batch_size = batch_size, shuffle = True)\n"
   ]
  },
  {
   "cell_type": "code",
   "execution_count": 46,
   "id": "569e5977-c977-41ff-849e-2204b8a0a891",
   "metadata": {},
   "outputs": [
    {
     "name": "stdout",
     "output_type": "stream",
     "text": [
      "shape:  torch.Size([3, 640, 640])\n"
     ]
    }
   ],
   "source": [
    "print(\"shape: \", dataset_train[0][0].shape)"
   ]
  },
  {
   "cell_type": "code",
   "execution_count": 47,
   "id": "df864e2e-cf6e-4b62-9470-cdc5db050f94",
   "metadata": {},
   "outputs": [
    {
     "name": "stdout",
     "output_type": "stream",
     "text": [
      "Using cuda device\n"
     ]
    }
   ],
   "source": [
    "device = (\n",
    "    \"cuda\"\n",
    "    if torch.cuda.is_available()\n",
    "    else \"mps\"\n",
    "    if torch.backends.mps.is_available()\n",
    "    else \"cpu\"\n",
    ")\n",
    "print(f\"Using {device} device\")"
   ]
  },
  {
   "cell_type": "code",
   "execution_count": 48,
   "id": "15ff645d-6181-4cf3-8c69-bc13e65bfb08",
   "metadata": {},
   "outputs": [
    {
     "name": "stdout",
     "output_type": "stream",
     "text": [
      "tensor(True)\n"
     ]
    }
   ],
   "source": [
    "print(dataset_train[0][0][1].sum() == dataset_train[0][0][0].sum())"
   ]
  },
  {
   "cell_type": "code",
   "execution_count": 49,
   "id": "45df016f-9241-4e76-ad4b-c7c6425bf9e6",
   "metadata": {},
   "outputs": [],
   "source": [
    "import torch.nn as nn"
   ]
  },
  {
   "cell_type": "code",
   "execution_count": 50,
   "id": "affb5527-17e8-4b23-86be-2d71757900f8",
   "metadata": {},
   "outputs": [],
   "source": [
    "def relu(x):\n",
    "    return nn.ReLU(x)\n",
    "\n",
    "def curly_N(x):\n",
    "    return (x - np.min(x)) / (np.max(x) - np.min(x))\n",
    "\n",
    "def curly_Nprime(w):\n",
    "    return (w - np.min(w) + 1) / (np.max(w) - np.min(w) + 2)\n",
    "\n",
    "def f_VHN(x, w):\n",
    "    return relu(curly_N(x)) * relu(curly_Nprime(w))"
   ]
  },
  {
   "cell_type": "code",
   "execution_count": 55,
   "id": "4f1ede58-c50a-4c83-a501-d89291a64b0c",
   "metadata": {},
   "outputs": [],
   "source": [
    "# class MyLinearLayer(nn.Module):\n",
    "#     \"\"\" Custom Linear layer but mimics a standard linear layer \"\"\"\n",
    "#     def __init__(self, size_in, size_out):\n",
    "#         super().__init__()\n",
    "#         self.size_in, self.size_out = size_in, size_out\n",
    "#         weights = torch.Tensor(size_out, size_in)\n",
    "#         self.weights = nn.Parameter(weights)  # nn.Parameter is a Tensor that's a module parameter.\n",
    "#         bias = torch.Tensor(size_out)\n",
    "#         self.bias = nn.Parameter(bias)\n",
    "\n",
    "#         # initialize weights and biases\n",
    "#         nn.init.kaiming_uniform_(self.weights, a=math.sqrt(5)) # weight init\n",
    "#         fan_in, _ = nn.init._calculate_fan_in_and_fan_out(self.weights)\n",
    "#         bound = 1 / math.sqrt(fan_in)\n",
    "#         nn.init.uniform_(self.bias, -bound, bound)  # bias init\n",
    "\n",
    "#     def forward(self, x):\n",
    "#         w_times_x= torch.mm(x, self.weights.t())\n",
    "#         return torch.add(w_times_x, self.bias)  # w times x + b\n",
    "        \n",
    "class VHNLayer(nn.Module):\n",
    "    \"\"\" Custom VHN layer \"\"\"\n",
    "    def __init__(self, img_len, img_width):\n",
    "        super().__init__()\n",
    "        self.img_len, self.img_width = img_len, img_width\n",
    "        weights = torch.Tensor(img_len, img_width)\n",
    "        self.weights = nn.Parameter(weights)  # nn.Parameter is a Tensor that's a module parameter.\n",
    "\n",
    "        # initialize weights and biases\n",
    "        nn.init.kaiming_uniform_(self.weights, a=math.sqrt(5)) # weight init\n",
    "        \n",
    "        \n",
    "\n",
    "    def forward(self, x):\n",
    "        \n",
    "        return f_VHN(x, self.weights) # w times x + b"
   ]
  },
  {
   "cell_type": "code",
   "execution_count": 56,
   "id": "57f8a629-c06d-48b1-aa1c-83159d66fa6c",
   "metadata": {},
   "outputs": [],
   "source": [
    "class ConvNet(nn.Module):\n",
    "    def __init__(self):\n",
    "        super().__init__()\n",
    "        self.vhn1 = VHNLayer(640, 640)\n",
    "        self.conv1 = nn.Conv2d(1, 32, 5)\n",
    "        self.pool = nn.MaxPool2d(2, 2)\n",
    "        self.conv2 = nn.Conv2d(32, 64, 4)\n",
    "        self.pool = nn.MaxPool2d(2, 2)\n",
    "        self.fc1 = nn.Linear(1024, 120)\n",
    "        self.fc2 = nn.Linear(120, 84)\n",
    "        self.fc3 = nn.Linear(84, 10)\n",
    "\n",
    "    def forward(self, x):\n",
    "        x = self.vhn1(x)\n",
    "        x = self.pool(F.relu(self.conv1(x)))\n",
    "        x = self.pool(F.relu(self.conv2(x)))\n",
    "        x = torch.flatten(x, 1) # flatten all dimensions except batch\n",
    "        # print(x.shape)\n",
    "        x = F.relu(self.fc1(x))\n",
    "        x = F.relu(self.fc2(x))\n",
    "        x = self.fc3(x)\n",
    "        # print(x.shape)\n",
    "        return x\n",
    "\n",
    "\n",
    "net = ConvNet()\n"
   ]
  },
  {
   "cell_type": "code",
   "execution_count": null,
   "id": "3f5c0db0-03ef-4de8-8177-3a63cd651638",
   "metadata": {},
   "outputs": [],
   "source": []
  },
  {
   "cell_type": "code",
   "execution_count": null,
   "id": "2aa815e0-186f-436e-b789-e9b427c2d402",
   "metadata": {},
   "outputs": [],
   "source": []
  }
 ],
 "metadata": {
  "kernelspec": {
   "display_name": "Python 3 (ipykernel)",
   "language": "python",
   "name": "python3"
  },
  "language_info": {
   "codemirror_mode": {
    "name": "ipython",
    "version": 3
   },
   "file_extension": ".py",
   "mimetype": "text/x-python",
   "name": "python",
   "nbconvert_exporter": "python",
   "pygments_lexer": "ipython3",
   "version": "3.11.7"
  }
 },
 "nbformat": 4,
 "nbformat_minor": 5
}

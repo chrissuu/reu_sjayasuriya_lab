{
 "cells": [
  {
   "cell_type": "code",
   "execution_count": null,
   "id": "4d45d868-a5b0-4f03-a78b-17d785775bc3",
   "metadata": {},
   "outputs": [],
   "source": [
    "from qiskit import QuantumRegister, ClassicalRegister\n",
    "from qiskit import QuantumCircuit, execute,IBMQ\n",
    "from qiskit.tools.monitor import job_monitor\n",
    "from qiskit.circuit.library import RGQFTMultiplier\n",
    "from ENV import API_KEY\n",
    "\n",
    "IBMQ.enable_account(str(API_KEY))\n",
    "provider = IBMQ.get_provider(hub='ibm-q')\n",
    "\n",
    "backend = provider.get_backend('ibmq_qasm_simulator')\n",
    "\n",
    "q = QuantumRegister(8,'q')\n",
    "c = ClassicalRegister(4,'c')\n",
    "\n",
    "circuit = QuantumCircuit(q,c)\n",
    "\n",
    "# Operand A = 10 (2)\n",
    "circuit.x(q[1])\n",
    "\n",
    "# Operand B = 11 (3)\n",
    "circuit.x(q[2])\n",
    "circuit.x(q[3])\n",
    "\n",
    "circuit1 = RGQFTMultiplier(num_state_qubits=2, num_result_qubits=4)\n",
    "circuit = circuit.compose(circuit1)\n",
    "\n",
    "circuit.measure(q[4],c[0])\n",
    "circuit.measure(q[5],c[1])\n",
    "circuit.measure(q[6],c[2])\n",
    "circuit.measure(q[7],c[3])\n",
    "\n",
    "print(circuit)\n",
    "\n",
    "job = execute(circuit, backend, shots=2000)\n",
    "result = job.result()\n",
    "counts = result.get_counts()\n",
    "\n",
    "print('2*3')\n",
    "print('---')\n",
    "print(counts)"
   ]
  }
 ],
 "metadata": {
  "kernelspec": {
   "display_name": "Python 3 (ipykernel)",
   "language": "python",
   "name": "python3"
  },
  "language_info": {
   "codemirror_mode": {
    "name": "ipython",
    "version": 3
   },
   "file_extension": ".py",
   "mimetype": "text/x-python",
   "name": "python",
   "nbconvert_exporter": "python",
   "pygments_lexer": "ipython3",
   "version": "3.10.14"
  }
 },
 "nbformat": 4,
 "nbformat_minor": 5
}

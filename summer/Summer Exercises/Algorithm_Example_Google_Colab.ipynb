{
  "nbformat": 4,
  "nbformat_minor": 0,
  "metadata": {
    "colab": {
      "provenance": []
    },
    "kernelspec": {
      "name": "python3",
      "display_name": "Python 3"
    },
    "language_info": {
      "name": "python"
    }
  },
  "cells": [
    {
      "cell_type": "markdown",
      "source": [
        "# An Introduction to Algorithms in Qiskit"
      ],
      "metadata": {
        "id": "St50iZKaolzR"
      }
    },
    {
      "cell_type": "code",
      "execution_count": 3,
      "metadata": {
        "colab": {
          "base_uri": "https://localhost:8080/"
        },
        "id": "5Lkjg1QzokOP",
        "outputId": "d2ef70ce-3aa1-4859-84dd-a6cac5620dbd"
      },
      "outputs": [
        {
          "output_type": "stream",
          "name": "stdout",
          "text": [
            "Requirement already satisfied: qiskit in /usr/local/lib/python3.10/dist-packages (1.1.0)\n",
            "Requirement already satisfied: rustworkx>=0.14.0 in /usr/local/lib/python3.10/dist-packages (from qiskit) (0.14.2)\n",
            "Requirement already satisfied: numpy<3,>=1.17 in /usr/local/lib/python3.10/dist-packages (from qiskit) (1.25.2)\n",
            "Requirement already satisfied: scipy>=1.5 in /usr/local/lib/python3.10/dist-packages (from qiskit) (1.11.4)\n",
            "Requirement already satisfied: sympy>=1.3 in /usr/local/lib/python3.10/dist-packages (from qiskit) (1.12)\n",
            "Requirement already satisfied: dill>=0.3 in /usr/local/lib/python3.10/dist-packages (from qiskit) (0.3.8)\n",
            "Requirement already satisfied: python-dateutil>=2.8.0 in /usr/local/lib/python3.10/dist-packages (from qiskit) (2.8.2)\n",
            "Requirement already satisfied: stevedore>=3.0.0 in /usr/local/lib/python3.10/dist-packages (from qiskit) (5.2.0)\n",
            "Requirement already satisfied: typing-extensions in /usr/local/lib/python3.10/dist-packages (from qiskit) (4.11.0)\n",
            "Requirement already satisfied: symengine>=0.11 in /usr/local/lib/python3.10/dist-packages (from qiskit) (0.11.0)\n",
            "Requirement already satisfied: six>=1.5 in /usr/local/lib/python3.10/dist-packages (from python-dateutil>=2.8.0->qiskit) (1.16.0)\n",
            "Requirement already satisfied: pbr!=2.1.0,>=2.0.0 in /usr/local/lib/python3.10/dist-packages (from stevedore>=3.0.0->qiskit) (6.0.0)\n",
            "Requirement already satisfied: mpmath>=0.19 in /usr/local/lib/python3.10/dist-packages (from sympy>=1.3->qiskit) (1.3.0)\n",
            "Collecting qiskit_algorithms\n",
            "  Downloading qiskit_algorithms-0.3.0-py3-none-any.whl (308 kB)\n",
            "\u001b[2K     \u001b[90m━━━━━━━━━━━━━━━━━━━━━━━━━━━━━━━━━━━━━━━━\u001b[0m \u001b[32m308.6/308.6 kB\u001b[0m \u001b[31m2.6 MB/s\u001b[0m eta \u001b[36m0:00:00\u001b[0m\n",
            "\u001b[?25hRequirement already satisfied: qiskit>=0.44 in /usr/local/lib/python3.10/dist-packages (from qiskit_algorithms) (1.1.0)\n",
            "Requirement already satisfied: scipy>=1.4 in /usr/local/lib/python3.10/dist-packages (from qiskit_algorithms) (1.11.4)\n",
            "Requirement already satisfied: numpy>=1.17 in /usr/local/lib/python3.10/dist-packages (from qiskit_algorithms) (1.25.2)\n",
            "Requirement already satisfied: rustworkx>=0.14.0 in /usr/local/lib/python3.10/dist-packages (from qiskit>=0.44->qiskit_algorithms) (0.14.2)\n",
            "Requirement already satisfied: sympy>=1.3 in /usr/local/lib/python3.10/dist-packages (from qiskit>=0.44->qiskit_algorithms) (1.12)\n",
            "Requirement already satisfied: dill>=0.3 in /usr/local/lib/python3.10/dist-packages (from qiskit>=0.44->qiskit_algorithms) (0.3.8)\n",
            "Requirement already satisfied: python-dateutil>=2.8.0 in /usr/local/lib/python3.10/dist-packages (from qiskit>=0.44->qiskit_algorithms) (2.8.2)\n",
            "Requirement already satisfied: stevedore>=3.0.0 in /usr/local/lib/python3.10/dist-packages (from qiskit>=0.44->qiskit_algorithms) (5.2.0)\n",
            "Requirement already satisfied: typing-extensions in /usr/local/lib/python3.10/dist-packages (from qiskit>=0.44->qiskit_algorithms) (4.11.0)\n",
            "Requirement already satisfied: symengine>=0.11 in /usr/local/lib/python3.10/dist-packages (from qiskit>=0.44->qiskit_algorithms) (0.11.0)\n",
            "Requirement already satisfied: six>=1.5 in /usr/local/lib/python3.10/dist-packages (from python-dateutil>=2.8.0->qiskit>=0.44->qiskit_algorithms) (1.16.0)\n",
            "Requirement already satisfied: pbr!=2.1.0,>=2.0.0 in /usr/local/lib/python3.10/dist-packages (from stevedore>=3.0.0->qiskit>=0.44->qiskit_algorithms) (6.0.0)\n",
            "Requirement already satisfied: mpmath>=0.19 in /usr/local/lib/python3.10/dist-packages (from sympy>=1.3->qiskit>=0.44->qiskit_algorithms) (1.3.0)\n",
            "Installing collected packages: qiskit_algorithms\n",
            "Successfully installed qiskit_algorithms-0.3.0\n",
            "Requirement already satisfied: qiskit_aer in /usr/local/lib/python3.10/dist-packages (0.14.1)\n",
            "Requirement already satisfied: qiskit>=0.45.0 in /usr/local/lib/python3.10/dist-packages (from qiskit_aer) (1.1.0)\n",
            "Requirement already satisfied: numpy>=1.16.3 in /usr/local/lib/python3.10/dist-packages (from qiskit_aer) (1.25.2)\n",
            "Requirement already satisfied: scipy>=1.0 in /usr/local/lib/python3.10/dist-packages (from qiskit_aer) (1.11.4)\n",
            "Requirement already satisfied: psutil>=5 in /usr/local/lib/python3.10/dist-packages (from qiskit_aer) (5.9.5)\n",
            "Requirement already satisfied: rustworkx>=0.14.0 in /usr/local/lib/python3.10/dist-packages (from qiskit>=0.45.0->qiskit_aer) (0.14.2)\n",
            "Requirement already satisfied: sympy>=1.3 in /usr/local/lib/python3.10/dist-packages (from qiskit>=0.45.0->qiskit_aer) (1.12)\n",
            "Requirement already satisfied: dill>=0.3 in /usr/local/lib/python3.10/dist-packages (from qiskit>=0.45.0->qiskit_aer) (0.3.8)\n",
            "Requirement already satisfied: python-dateutil>=2.8.0 in /usr/local/lib/python3.10/dist-packages (from qiskit>=0.45.0->qiskit_aer) (2.8.2)\n",
            "Requirement already satisfied: stevedore>=3.0.0 in /usr/local/lib/python3.10/dist-packages (from qiskit>=0.45.0->qiskit_aer) (5.2.0)\n",
            "Requirement already satisfied: typing-extensions in /usr/local/lib/python3.10/dist-packages (from qiskit>=0.45.0->qiskit_aer) (4.11.0)\n",
            "Requirement already satisfied: symengine>=0.11 in /usr/local/lib/python3.10/dist-packages (from qiskit>=0.45.0->qiskit_aer) (0.11.0)\n",
            "Requirement already satisfied: six>=1.5 in /usr/local/lib/python3.10/dist-packages (from python-dateutil>=2.8.0->qiskit>=0.45.0->qiskit_aer) (1.16.0)\n",
            "Requirement already satisfied: pbr!=2.1.0,>=2.0.0 in /usr/local/lib/python3.10/dist-packages (from stevedore>=3.0.0->qiskit>=0.45.0->qiskit_aer) (6.0.0)\n",
            "Requirement already satisfied: mpmath>=0.19 in /usr/local/lib/python3.10/dist-packages (from sympy>=1.3->qiskit>=0.45.0->qiskit_aer) (1.3.0)\n"
          ]
        }
      ],
      "source": [
        "!pip install qiskit\n",
        "!pip install qiskit_algorithms\n",
        "!pip install qiskit_aer"
      ]
    },
    {
      "cell_type": "markdown",
      "source": [
        "## How is the algorithm library structured?"
      ],
      "metadata": {
        "id": "Mk91MIswoqkT"
      }
    },
    {
      "cell_type": "markdown",
      "source": [
        "Qiskit offers various algorithms categorized by their tasks. For example:\n",
        "\n",
        "- Minimum Eigensolvers: Find the smallest eigenvalue of an operator, such as the ground state energy of a chemistry Hamiltonian or an optimization problem solution expressed as an Ising Hamiltonian.\n",
        "- Time Evolvers: Handle the time evolution of quantum systems.\n",
        "- Amplitude Estimators: Estimate values for applications like finance.\n",
        "You can find the full list of categories in the Algorithms documentation.\n",
        "\n",
        "These algorithms are customizable and use smaller building blocks. For instance, the Variational Quantum Eigensolver (VQE) needs a trial wavefunction (a QuantumCircuit) and a classical optimizer.\n",
        "\n",
        "Here's how to create a VQE instance:\n",
        "\n",
        "1. TwoLocal: A parameterized circuit used as the trial wavefunction.\n",
        "2. SLSQP: A classical optimizer.\n",
        "\n",
        "You create these components separately and pass them to VQE. To try different components, just create the ones you want and use them with VQE."
      ],
      "metadata": {
        "id": "NNjHvKTWowQA"
      }
    },
    {
      "cell_type": "code",
      "source": [
        "from qiskit_algorithms.optimizers import SLSQP\n",
        "from qiskit.circuit.library import TwoLocal\n",
        "\n",
        "num_qubits = 2\n",
        "ansatz = TwoLocal(num_qubits, 'ry', 'cz')\n",
        "optimizer = SLSQP(maxiter=1000)"
      ],
      "metadata": {
        "id": "41iOd5xFo7W0"
      },
      "execution_count": 5,
      "outputs": []
    },
    {
      "cell_type": "markdown",
      "source": [
        "Let's draw the ansatz so we can see it's a QuantumCircuit where θ[0] through θ[7] will be the parameters that are varied as VQE optimizer finds the minimum eigenvalue. We'll come back to the parameters later in a working example below."
      ],
      "metadata": {
        "id": "5f-Fgq7MpmzO"
      }
    },
    {
      "cell_type": "code",
      "source": [
        "ansatz.decompose().draw()"
      ],
      "metadata": {
        "colab": {
          "base_uri": "https://localhost:8080/",
          "height": 94
        },
        "id": "gy3M798OpnEN",
        "outputId": "8d21ee8b-ec25-424b-b1f6-c43346f62bfd"
      },
      "execution_count": 6,
      "outputs": [
        {
          "output_type": "execute_result",
          "data": {
            "text/plain": [
              "     ┌──────────┐   ┌──────────┐   ┌──────────┐   ┌──────────┐\n",
              "q_0: ┤ Ry(θ[0]) ├─■─┤ Ry(θ[2]) ├─■─┤ Ry(θ[4]) ├─■─┤ Ry(θ[6]) ├\n",
              "     ├──────────┤ │ ├──────────┤ │ ├──────────┤ │ ├──────────┤\n",
              "q_1: ┤ Ry(θ[1]) ├─■─┤ Ry(θ[3]) ├─■─┤ Ry(θ[5]) ├─■─┤ Ry(θ[7]) ├\n",
              "     └──────────┘   └──────────┘   └──────────┘   └──────────┘"
            ],
            "text/html": [
              "<pre style=\"word-wrap: normal;white-space: pre;background: #fff0;line-height: 1.1;font-family: &quot;Courier New&quot;,Courier,monospace\">     ┌──────────┐   ┌──────────┐   ┌──────────┐   ┌──────────┐\n",
              "q_0: ┤ Ry(θ[0]) ├─■─┤ Ry(θ[2]) ├─■─┤ Ry(θ[4]) ├─■─┤ Ry(θ[6]) ├\n",
              "     ├──────────┤ │ ├──────────┤ │ ├──────────┤ │ ├──────────┤\n",
              "q_1: ┤ Ry(θ[1]) ├─■─┤ Ry(θ[3]) ├─■─┤ Ry(θ[5]) ├─■─┤ Ry(θ[7]) ├\n",
              "     └──────────┘   └──────────┘   └──────────┘   └──────────┘</pre>"
            ]
          },
          "metadata": {},
          "execution_count": 6
        }
      ]
    },
    {
      "cell_type": "markdown",
      "source": [
        "## How to run an algorithm?"
      ],
      "metadata": {
        "id": "-AOBNPO-pz4O"
      }
    },
    {
      "cell_type": "markdown",
      "source": [
        "Algorithms use primitives to evaluate expectation values or sample circuits. These primitives can run on either a simulator or a real device and are interchangeable because they all follow the same interface.\n",
        "\n",
        "For example, in the Variational Quantum Eigensolver (VQE), we need to evaluate expectation values. We can use the qiskit.primitives.Estimator, which comes with the default Qiskit Terra installation."
      ],
      "metadata": {
        "id": "vDLsxUwqp40z"
      }
    },
    {
      "cell_type": "code",
      "source": [
        "from qiskit.primitives import Estimator\n",
        "\n",
        "estimator = Estimator()"
      ],
      "metadata": {
        "id": "hrXYfJm_CfkD"
      },
      "execution_count": 8,
      "outputs": []
    },
    {
      "cell_type": "markdown",
      "source": [
        "This estimator uses an exact statevector simulation to evaluate expectation values. Alternatively, we can use shot-based and noisy simulators or real backends. For more details on simulators, check out Qiskit Aer, and for actual hardware, see Qiskit IBM Runtime.\n",
        "\n",
        "With everything ready, we can now set up the VQE:"
      ],
      "metadata": {
        "id": "NK5cDtK_Ckn-"
      }
    },
    {
      "cell_type": "code",
      "source": [
        "from qiskit_algorithms.minimum_eigensolvers import VQE\n",
        "\n",
        "vqe = VQE(estimator, ansatz, optimizer)"
      ],
      "metadata": {
        "id": "G5VVFVe6CrDj"
      },
      "execution_count": 10,
      "outputs": []
    },
    {
      "cell_type": "markdown",
      "source": [
        "Now we can call the compute_minimum_eigenvalue() method. This method is used by application modules like Nature and Optimization so they can work with any algorithm in the same category."
      ],
      "metadata": {
        "id": "srU4X-yNCwjp"
      }
    },
    {
      "cell_type": "markdown",
      "source": [
        "## A working example"
      ],
      "metadata": {
        "id": "6ssqhVaaC4Kp"
      }
    },
    {
      "cell_type": "markdown",
      "source": [
        "Let's put everything together and create a complete working example. VQE will find the minimum eigenvalue (minimum energy value) of a Hamiltonian operator, so we need such an operator. The operator below was created by the Nature application module for an H2 molecule at a 0.735A interatomic distance. It's a sum of Pauli terms, but we won't go into detail about it now. The goal is to run the algorithm."
      ],
      "metadata": {
        "id": "mXh4FNrWC7Co"
      }
    },
    {
      "cell_type": "code",
      "source": [
        "from qiskit.quantum_info import SparsePauliOp\n",
        "\n",
        "H2_op = SparsePauliOp.from_list([\n",
        "    (\"II\", -1.052373245772859),\n",
        "    (\"IZ\", 0.39793742484318045),\n",
        "    (\"ZI\", -0.39793742484318045),\n",
        "    (\"ZZ\", -0.01128010425623538),\n",
        "    (\"XX\", 0.18093119978423156)\n",
        "])"
      ],
      "metadata": {
        "id": "TfgAtmj2DNF1"
      },
      "execution_count": 11,
      "outputs": []
    },
    {
      "cell_type": "code",
      "source": [
        "result = vqe.compute_minimum_eigenvalue(H2_op)\n",
        "print(result)"
      ],
      "metadata": {
        "colab": {
          "base_uri": "https://localhost:8080/"
        },
        "id": "pUGLO21BDPg5",
        "outputId": "1812d6d7-9426-4a7e-c212-df0a8f74eb9e"
      },
      "execution_count": 12,
      "outputs": [
        {
          "output_type": "stream",
          "name": "stdout",
          "text": [
            "{   'aux_operators_evaluated': None,\n",
            "    'cost_function_evals': 111,\n",
            "    'eigenvalue': -1.857274884145482,\n",
            "    'optimal_circuit': <qiskit.circuit.library.n_local.two_local.TwoLocal object at 0x7a6645f4a1d0>,\n",
            "    'optimal_parameters': {   ParameterVectorElement(θ[0]): 6.661513891936551,\n",
            "                              ParameterVectorElement(θ[1]): -4.8823446684827845,\n",
            "                              ParameterVectorElement(θ[2]): -0.5718475845103274,\n",
            "                              ParameterVectorElement(θ[3]): 3.681737007981664,\n",
            "                              ParameterVectorElement(θ[4]): 4.569439129393979,\n",
            "                              ParameterVectorElement(θ[5]): -1.9397076294009967,\n",
            "                              ParameterVectorElement(θ[6]): 0.934445751434625,\n",
            "                              ParameterVectorElement(θ[7]): 3.410555640472742},\n",
            "    'optimal_point': array([ 6.66151389, -4.88234467, -0.57184758,  3.68173701,  4.56943913,\n",
            "       -1.93970763,  0.93444575,  3.41055564]),\n",
            "    'optimal_value': -1.857274884145482,\n",
            "    'optimizer_evals': None,\n",
            "    'optimizer_result': <qiskit_algorithms.optimizers.optimizer.OptimizerResult object at 0x7a667d43d3c0>,\n",
            "    'optimizer_time': 0.3579428195953369}\n"
          ]
        }
      ]
    },
    {
      "cell_type": "markdown",
      "source": [
        "From the result, we can see how many cost function (energy) evaluations the optimizer needed to find the minimum eigenvalue, which is the electronic ground state energy of the H2 molecule. We can also see the optimal parameters of the ansatz used at the minimum value (approx. -1.85727)."
      ],
      "metadata": {
        "id": "8bldYC4PDWFt"
      }
    },
    {
      "cell_type": "markdown",
      "source": [
        "## Updating the primitive inside VQE"
      ],
      "metadata": {
        "id": "w0fdf791DoO4"
      }
    },
    {
      "cell_type": "markdown",
      "source": [
        "Now, let's change the estimator primitive in VQE. If you're happy with the simulation results, you might want to use a shot-based simulator or run on actual hardware!\n",
        "\n",
        "In this example, we'll switch to a shot-based estimator using Qiskit Terra's reference primitive. You could also use Qiskit Aer's estimator (qiskit_aer.primitives.Estimator) or a real backend (qiskit_ibm_runtime.Estimator).\n",
        "\n",
        "For noisy environments, the SPSA optimizer often performs well, so we'll update the optimizer too. For more details on shot-based and noisy simulations, check out the noisy VQE tutorial."
      ],
      "metadata": {
        "id": "wRnP_IyZDq4q"
      }
    },
    {
      "cell_type": "code",
      "source": [
        "from qiskit_algorithms.optimizers import SPSA\n",
        "\n",
        "estimator = Estimator(options={\"shots\": 1000})\n",
        "\n",
        "vqe.estimator = estimator\n",
        "vqe.optimizer = SPSA(maxiter=100)\n",
        "result = vqe.compute_minimum_eigenvalue(operator=H2_op)\n",
        "print(result)"
      ],
      "metadata": {
        "colab": {
          "base_uri": "https://localhost:8080/"
        },
        "id": "xIxxMEhmD4YM",
        "outputId": "9bbef87e-fa8b-4843-dd1e-3c4b26f547f8"
      },
      "execution_count": 14,
      "outputs": [
        {
          "output_type": "stream",
          "name": "stdout",
          "text": [
            "{   'aux_operators_evaluated': None,\n",
            "    'cost_function_evals': 200,\n",
            "    'eigenvalue': -1.8576551527276008,\n",
            "    'optimal_circuit': <qiskit.circuit.library.n_local.two_local.TwoLocal object at 0x7a6645f48ac0>,\n",
            "    'optimal_parameters': {   ParameterVectorElement(θ[0]): -0.726382967222955,\n",
            "                              ParameterVectorElement(θ[1]): 7.031595933216298,\n",
            "                              ParameterVectorElement(θ[2]): 1.0879438151403265,\n",
            "                              ParameterVectorElement(θ[3]): 2.3731145684592834,\n",
            "                              ParameterVectorElement(θ[4]): -2.5654009064749603,\n",
            "                              ParameterVectorElement(θ[5]): 4.248187762835965,\n",
            "                              ParameterVectorElement(θ[6]): 6.496838812930074,\n",
            "                              ParameterVectorElement(θ[7]): -5.5074007013941735},\n",
            "    'optimal_point': array([-0.72638297,  7.03159593,  1.08794382,  2.37311457, -2.56540091,\n",
            "        4.24818776,  6.49683881, -5.5074007 ]),\n",
            "    'optimal_value': -1.8576551527276008,\n",
            "    'optimizer_evals': None,\n",
            "    'optimizer_result': <qiskit_algorithms.optimizers.optimizer.OptimizerResult object at 0x7a667d43fca0>,\n",
            "    'optimizer_time': 1.149137258529663}\n"
          ]
        }
      ]
    },
    {
      "cell_type": "markdown",
      "source": [
        "Note: We do not fix the random seed in the simulators here, so re-running gives slightly varying results.\n"
      ],
      "metadata": {
        "id": "h-kE2xtHD96K"
      }
    }
  ]
}
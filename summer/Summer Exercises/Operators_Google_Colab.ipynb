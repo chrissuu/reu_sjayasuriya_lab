{
  "nbformat": 4,
  "nbformat_minor": 0,
  "metadata": {
    "colab": {
      "provenance": []
    },
    "kernelspec": {
      "name": "python3",
      "display_name": "Python 3"
    },
    "language_info": {
      "name": "python"
    }
  },
  "cells": [
    {
      "cell_type": "code",
      "source": [
        "!pip install qiskit"
      ],
      "metadata": {
        "colab": {
          "base_uri": "https://localhost:8080/"
        },
        "id": "gZ8XhjCfFcIw",
        "outputId": "55a03126-fa39-4aa1-a62a-616aee19a026"
      },
      "execution_count": 1,
      "outputs": [
        {
          "output_type": "stream",
          "name": "stdout",
          "text": [
            "Collecting qiskit\n",
            "  Downloading qiskit-1.1.0-cp38-abi3-manylinux_2_17_x86_64.manylinux2014_x86_64.whl (4.3 MB)\n",
            "\u001b[2K     \u001b[90m━━━━━━━━━━━━━━━━━━━━━━━━━━━━━━━━━━━━━━━━\u001b[0m \u001b[32m4.3/4.3 MB\u001b[0m \u001b[31m12.4 MB/s\u001b[0m eta \u001b[36m0:00:00\u001b[0m\n",
            "\u001b[?25hCollecting rustworkx>=0.14.0 (from qiskit)\n",
            "  Downloading rustworkx-0.14.2-cp310-cp310-manylinux_2_17_x86_64.manylinux2014_x86_64.whl (2.1 MB)\n",
            "\u001b[2K     \u001b[90m━━━━━━━━━━━━━━━━━━━━━━━━━━━━━━━━━━━━━━━━\u001b[0m \u001b[32m2.1/2.1 MB\u001b[0m \u001b[31m21.1 MB/s\u001b[0m eta \u001b[36m0:00:00\u001b[0m\n",
            "\u001b[?25hRequirement already satisfied: numpy<3,>=1.17 in /usr/local/lib/python3.10/dist-packages (from qiskit) (1.25.2)\n",
            "Requirement already satisfied: scipy>=1.5 in /usr/local/lib/python3.10/dist-packages (from qiskit) (1.11.4)\n",
            "Requirement already satisfied: sympy>=1.3 in /usr/local/lib/python3.10/dist-packages (from qiskit) (1.12)\n",
            "Collecting dill>=0.3 (from qiskit)\n",
            "  Downloading dill-0.3.8-py3-none-any.whl (116 kB)\n",
            "\u001b[2K     \u001b[90m━━━━━━━━━━━━━━━━━━━━━━━━━━━━━━━━━━━━━━━━\u001b[0m \u001b[32m116.3/116.3 kB\u001b[0m \u001b[31m7.0 MB/s\u001b[0m eta \u001b[36m0:00:00\u001b[0m\n",
            "\u001b[?25hRequirement already satisfied: python-dateutil>=2.8.0 in /usr/local/lib/python3.10/dist-packages (from qiskit) (2.8.2)\n",
            "Collecting stevedore>=3.0.0 (from qiskit)\n",
            "  Downloading stevedore-5.2.0-py3-none-any.whl (49 kB)\n",
            "\u001b[2K     \u001b[90m━━━━━━━━━━━━━━━━━━━━━━━━━━━━━━━━━━━━━━━━\u001b[0m \u001b[32m49.7/49.7 kB\u001b[0m \u001b[31m2.4 MB/s\u001b[0m eta \u001b[36m0:00:00\u001b[0m\n",
            "\u001b[?25hRequirement already satisfied: typing-extensions in /usr/local/lib/python3.10/dist-packages (from qiskit) (4.11.0)\n",
            "Collecting symengine>=0.11 (from qiskit)\n",
            "  Downloading symengine-0.11.0-cp310-cp310-manylinux_2_12_x86_64.manylinux2010_x86_64.whl (39.4 MB)\n",
            "\u001b[2K     \u001b[90m━━━━━━━━━━━━━━━━━━━━━━━━━━━━━━━━━━━━━━━━\u001b[0m \u001b[32m39.4/39.4 MB\u001b[0m \u001b[31m11.9 MB/s\u001b[0m eta \u001b[36m0:00:00\u001b[0m\n",
            "\u001b[?25hRequirement already satisfied: six>=1.5 in /usr/local/lib/python3.10/dist-packages (from python-dateutil>=2.8.0->qiskit) (1.16.0)\n",
            "Collecting pbr!=2.1.0,>=2.0.0 (from stevedore>=3.0.0->qiskit)\n",
            "  Downloading pbr-6.0.0-py2.py3-none-any.whl (107 kB)\n",
            "\u001b[2K     \u001b[90m━━━━━━━━━━━━━━━━━━━━━━━━━━━━━━━━━━━━━━━━\u001b[0m \u001b[32m107.5/107.5 kB\u001b[0m \u001b[31m2.6 MB/s\u001b[0m eta \u001b[36m0:00:00\u001b[0m\n",
            "\u001b[?25hRequirement already satisfied: mpmath>=0.19 in /usr/local/lib/python3.10/dist-packages (from sympy>=1.3->qiskit) (1.3.0)\n",
            "Installing collected packages: symengine, rustworkx, pbr, dill, stevedore, qiskit\n",
            "Successfully installed dill-0.3.8 pbr-6.0.0 qiskit-1.1.0 rustworkx-0.14.2 stevedore-5.2.0 symengine-0.11.0\n"
          ]
        }
      ]
    },
    {
      "cell_type": "markdown",
      "source": [
        "# Operator"
      ],
      "metadata": {
        "id": "WvV69pxmFFy-"
      }
    },
    {
      "cell_type": "markdown",
      "source": [
        "## Introduction"
      ],
      "metadata": {
        "id": "TSDaPqhSFIOM"
      }
    },
    {
      "cell_type": "markdown",
      "source": [
        "Qiskit provides classes to represent states, operators, and their algebraic constructs, such as sums, tensor products, and compositions. These tools allow us to build complex expressions for operators.\n",
        "\n",
        "**Building Expressions from Pauli Operators**\n",
        "We'll start by creating expressions using Pauli operators. In later sections, we'll explore operators and states in more detail, including their representation and manipulation.\n",
        "\n",
        "**Practical Example: State Evolution and Expectation Values**\n",
        "In the final section, we'll construct a quantum state, evolve it with a Hamiltonian, and compute the expectation values of an observable.\n",
        "\n",
        "This tutorial will guide you through the fundamental concepts and practical applications of states and operators in Qiskit."
      ],
      "metadata": {
        "id": "J6CoSqEyFKLK"
      }
    },
    {
      "cell_type": "markdown",
      "source": [
        "### Pauli operators, sums, compositions, and tensor products"
      ],
      "metadata": {
        "id": "6nEAmQAwFVkT"
      }
    },
    {
      "cell_type": "markdown",
      "source": [
        "The most important base operators are the Pauli operators. The Pauli operators are represented like this."
      ],
      "metadata": {
        "id": "7widq61uFXM4"
      }
    },
    {
      "cell_type": "code",
      "execution_count": 6,
      "metadata": {
        "colab": {
          "base_uri": "https://localhost:8080/"
        },
        "id": "IIHwG5UXFEze",
        "outputId": "2e2b9b1a-86bf-4345-f51f-39330a02fffa"
      },
      "outputs": [
        {
          "output_type": "stream",
          "name": "stdout",
          "text": [
            "I X Y Z\n"
          ]
        }
      ],
      "source": [
        "from qiskit.quantum_info import Pauli, SparsePauliOp\n",
        "\n",
        "I = Pauli('I')\n",
        "X = Pauli('X')\n",
        "Y = Pauli('Y')\n",
        "Z = Pauli('Z')\n",
        "print(I, X, Y, Z)"
      ]
    },
    {
      "cell_type": "markdown",
      "source": [
        "These operators may also carry a coefficient."
      ],
      "metadata": {
        "id": "Cf48R9NjGiMe"
      }
    },
    {
      "cell_type": "code",
      "source": [
        "operator1 = SparsePauliOp([\"I\",], coeffs = [1.5])\n",
        "operator2 = SparsePauliOp([\"X\",], coeffs = [2.5])\n",
        "print(operator1)\n",
        "print(operator2)"
      ],
      "metadata": {
        "colab": {
          "base_uri": "https://localhost:8080/"
        },
        "id": "D6mt3gqxGjpN",
        "outputId": "7221ecf0-65d5-492c-e1f8-909ea254dade"
      },
      "execution_count": 8,
      "outputs": [
        {
          "output_type": "stream",
          "name": "stdout",
          "text": [
            "SparsePauliOp(['I'],\n",
            "              coeffs=[1.5+0.j])\n",
            "SparsePauliOp(['X'],\n",
            "              coeffs=[2.5+0.j])\n"
          ]
        }
      ]
    },
    {
      "cell_type": "markdown",
      "source": [
        "These coefficients allow the operators to be used as terms in a sum."
      ],
      "metadata": {
        "id": "EQvw2v26HAgX"
      }
    },
    {
      "cell_type": "code",
      "source": [
        "operator = SparsePauliOp.from_list([(\"X\", 1), (\"Y\", 2.0)])\n",
        "print(repr(operator))"
      ],
      "metadata": {
        "colab": {
          "base_uri": "https://localhost:8080/"
        },
        "id": "JvqG2_7LHBGv",
        "outputId": "1a6f5050-dea6-449e-acc2-92ae8270c5eb"
      },
      "execution_count": 9,
      "outputs": [
        {
          "output_type": "stream",
          "name": "stdout",
          "text": [
            "SparsePauliOp(['X', 'Y'],\n",
            "              coeffs=[1.+0.j, 2.+0.j])\n"
          ]
        }
      ]
    },
    {
      "cell_type": "markdown",
      "source": [
        "Define the HH operator\n",
        "\n"
      ],
      "metadata": {
        "id": "jGVEraZgHdCt"
      }
    },
    {
      "cell_type": "code",
      "source": [
        "from qiskit import QuantumCircuit\n",
        "from qiskit.quantum_info import Clifford, Operator\n",
        "\n",
        "qc = QuantumCircuit(2)\n",
        "qc.h(0)\n",
        "qc.h(1)\n",
        "print(qc)"
      ],
      "metadata": {
        "colab": {
          "base_uri": "https://localhost:8080/"
        },
        "id": "3-nrmkPRHb1n",
        "outputId": "b0241569-2190-446a-ec4b-7ab518a35d1c"
      },
      "execution_count": 10,
      "outputs": [
        {
          "output_type": "stream",
          "name": "stdout",
          "text": [
            "     ┌───┐\n",
            "q_0: ┤ H ├\n",
            "     ├───┤\n",
            "q_1: ┤ H ├\n",
            "     └───┘\n"
          ]
        }
      ]
    },
    {
      "cell_type": "markdown",
      "source": [
        "To turn this circuit into an operator, you can do the following:"
      ],
      "metadata": {
        "id": "COq7jidBHucn"
      }
    },
    {
      "cell_type": "code",
      "source": [
        "operator = Clifford(qc).to_operator()\n",
        "\n",
        "# or, directly\n",
        "operator = Operator(qc)\n",
        "\n",
        "print(operator)"
      ],
      "metadata": {
        "colab": {
          "base_uri": "https://localhost:8080/"
        },
        "id": "40AyMvS4HvLt",
        "outputId": "967ecd03-b284-495b-d4c4-e60810387966"
      },
      "execution_count": 11,
      "outputs": [
        {
          "output_type": "stream",
          "name": "stdout",
          "text": [
            "Operator([[ 0.5+0.j,  0.5+0.j,  0.5+0.j,  0.5+0.j],\n",
            "          [ 0.5+0.j, -0.5+0.j,  0.5+0.j, -0.5+0.j],\n",
            "          [ 0.5+0.j,  0.5+0.j, -0.5+0.j, -0.5+0.j],\n",
            "          [ 0.5+0.j, -0.5+0.j, -0.5+0.j,  0.5+0.j]],\n",
            "         input_dims=(2, 2), output_dims=(2, 2))\n"
          ]
        }
      ]
    },
    {
      "cell_type": "markdown",
      "source": [
        "## State Functions and Measurements"
      ],
      "metadata": {
        "id": "1CbcCm1qIYjW"
      }
    },
    {
      "cell_type": "markdown",
      "source": [
        "Quantum states can be derived: For example: Zero, One, Plus, Minus."
      ],
      "metadata": {
        "id": "W9ahaSzvIhuV"
      }
    },
    {
      "cell_type": "code",
      "source": [
        "from qiskit import QuantumCircuit\n",
        "from qiskit.quantum_info import StabilizerState, Statevector\n",
        "\n",
        "qc_zero = QuantumCircuit(1)\n",
        "qc_one = qc_zero.copy()\n",
        "qc_one.x(0)\n",
        "state1 = Statevector(qc_zero) ^ Statevector(qc_one)\n",
        "print(\"State 1: \", state1)\n",
        "\n",
        "qc_plus = qc_zero.copy()\n",
        "qc_plus.h(0)\n",
        "qc_minus = qc_one.copy()\n",
        "qc_minus.h(0)\n",
        "state2 = StabilizerState(qc_plus) ^ StabilizerState(qc_minus)\n",
        "print(\"State 2: \", state2)"
      ],
      "metadata": {
        "colab": {
          "base_uri": "https://localhost:8080/"
        },
        "id": "Obyn-ow3Igs-",
        "outputId": "6af15a5a-c781-4f9f-d8e3-4228437d90ab"
      },
      "execution_count": 12,
      "outputs": [
        {
          "output_type": "stream",
          "name": "stdout",
          "text": [
            "State 1:  Statevector([0.+0.j, 1.+0.j, 0.+0.j, 0.+0.j],\n",
            "            dims=(2, 2))\n",
            "State 2:  StabilizerState(['-IX', '+XI'])\n"
          ]
        }
      ]
    }
  ]
}
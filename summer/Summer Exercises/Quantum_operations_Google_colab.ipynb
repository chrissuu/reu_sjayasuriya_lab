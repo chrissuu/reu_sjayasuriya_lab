{
  "cells": [
    {
      "cell_type": "code",
      "source": [
        "!pip install qiskit\n",
        "!pip install qiskit_aer"
      ],
      "metadata": {
        "colab": {
          "base_uri": "https://localhost:8080/"
        },
        "id": "TMxfy7gcKJou",
        "outputId": "b14835c8-e945-4e8b-83ea-122eb0923850"
      },
      "execution_count": 5,
      "outputs": [
        {
          "output_type": "stream",
          "name": "stdout",
          "text": [
            "Requirement already satisfied: qiskit in /usr/local/lib/python3.10/dist-packages (1.1.0)\n",
            "Requirement already satisfied: rustworkx>=0.14.0 in /usr/local/lib/python3.10/dist-packages (from qiskit) (0.14.2)\n",
            "Requirement already satisfied: numpy<3,>=1.17 in /usr/local/lib/python3.10/dist-packages (from qiskit) (1.25.2)\n",
            "Requirement already satisfied: scipy>=1.5 in /usr/local/lib/python3.10/dist-packages (from qiskit) (1.11.4)\n",
            "Requirement already satisfied: sympy>=1.3 in /usr/local/lib/python3.10/dist-packages (from qiskit) (1.12)\n",
            "Requirement already satisfied: dill>=0.3 in /usr/local/lib/python3.10/dist-packages (from qiskit) (0.3.8)\n",
            "Requirement already satisfied: python-dateutil>=2.8.0 in /usr/local/lib/python3.10/dist-packages (from qiskit) (2.8.2)\n",
            "Requirement already satisfied: stevedore>=3.0.0 in /usr/local/lib/python3.10/dist-packages (from qiskit) (5.2.0)\n",
            "Requirement already satisfied: typing-extensions in /usr/local/lib/python3.10/dist-packages (from qiskit) (4.11.0)\n",
            "Requirement already satisfied: symengine>=0.11 in /usr/local/lib/python3.10/dist-packages (from qiskit) (0.11.0)\n",
            "Requirement already satisfied: six>=1.5 in /usr/local/lib/python3.10/dist-packages (from python-dateutil>=2.8.0->qiskit) (1.16.0)\n",
            "Requirement already satisfied: pbr!=2.1.0,>=2.0.0 in /usr/local/lib/python3.10/dist-packages (from stevedore>=3.0.0->qiskit) (6.0.0)\n",
            "Requirement already satisfied: mpmath>=0.19 in /usr/local/lib/python3.10/dist-packages (from sympy>=1.3->qiskit) (1.3.0)\n",
            "Collecting qiskit_aer\n",
            "  Downloading qiskit_aer-0.14.1-cp310-cp310-manylinux_2_17_x86_64.manylinux2014_x86_64.whl (12.3 MB)\n",
            "\u001b[2K     \u001b[90m━━━━━━━━━━━━━━━━━━━━━━━━━━━━━━━━━━━━━━━━\u001b[0m \u001b[32m12.3/12.3 MB\u001b[0m \u001b[31m28.9 MB/s\u001b[0m eta \u001b[36m0:00:00\u001b[0m\n",
            "\u001b[?25hRequirement already satisfied: qiskit>=0.45.0 in /usr/local/lib/python3.10/dist-packages (from qiskit_aer) (1.1.0)\n",
            "Requirement already satisfied: numpy>=1.16.3 in /usr/local/lib/python3.10/dist-packages (from qiskit_aer) (1.25.2)\n",
            "Requirement already satisfied: scipy>=1.0 in /usr/local/lib/python3.10/dist-packages (from qiskit_aer) (1.11.4)\n",
            "Requirement already satisfied: psutil>=5 in /usr/local/lib/python3.10/dist-packages (from qiskit_aer) (5.9.5)\n",
            "Requirement already satisfied: rustworkx>=0.14.0 in /usr/local/lib/python3.10/dist-packages (from qiskit>=0.45.0->qiskit_aer) (0.14.2)\n",
            "Requirement already satisfied: sympy>=1.3 in /usr/local/lib/python3.10/dist-packages (from qiskit>=0.45.0->qiskit_aer) (1.12)\n",
            "Requirement already satisfied: dill>=0.3 in /usr/local/lib/python3.10/dist-packages (from qiskit>=0.45.0->qiskit_aer) (0.3.8)\n",
            "Requirement already satisfied: python-dateutil>=2.8.0 in /usr/local/lib/python3.10/dist-packages (from qiskit>=0.45.0->qiskit_aer) (2.8.2)\n",
            "Requirement already satisfied: stevedore>=3.0.0 in /usr/local/lib/python3.10/dist-packages (from qiskit>=0.45.0->qiskit_aer) (5.2.0)\n",
            "Requirement already satisfied: typing-extensions in /usr/local/lib/python3.10/dist-packages (from qiskit>=0.45.0->qiskit_aer) (4.11.0)\n",
            "Requirement already satisfied: symengine>=0.11 in /usr/local/lib/python3.10/dist-packages (from qiskit>=0.45.0->qiskit_aer) (0.11.0)\n",
            "Requirement already satisfied: six>=1.5 in /usr/local/lib/python3.10/dist-packages (from python-dateutil>=2.8.0->qiskit>=0.45.0->qiskit_aer) (1.16.0)\n",
            "Requirement already satisfied: pbr!=2.1.0,>=2.0.0 in /usr/local/lib/python3.10/dist-packages (from stevedore>=3.0.0->qiskit>=0.45.0->qiskit_aer) (6.0.0)\n",
            "Requirement already satisfied: mpmath>=0.19 in /usr/local/lib/python3.10/dist-packages (from sympy>=1.3->qiskit>=0.45.0->qiskit_aer) (1.3.0)\n",
            "Installing collected packages: qiskit_aer\n",
            "Successfully installed qiskit_aer-0.14.1\n"
          ]
        }
      ]
    },
    {
      "cell_type": "markdown",
      "metadata": {
        "id": "mwU6F1RxKEGp"
      },
      "source": [
        "# Summary of Quantum Operations"
      ]
    },
    {
      "cell_type": "markdown",
      "metadata": {
        "id": "VbfpqLVGKEGr"
      },
      "source": [
        " In this section we will go into the different operations that are available in Qiskit. These are:\n",
        "\n",
        "- Single-qubit quantum gates\n",
        "- Multi-qubit quantum gates\n",
        "- Measurements\n",
        "- Reset\n",
        "- Conditionals\n",
        "- State initialization\n",
        "\n",
        "We will also show you how to use the three different simulators:\n",
        "\n",
        "- unitary_simulator\n",
        "- qasm_simulator\n",
        "- statevector_simulator"
      ]
    },
    {
      "cell_type": "code",
      "execution_count": 2,
      "metadata": {
        "ExecuteTime": {
          "end_time": "2021-07-31T05:10:06.399483Z",
          "start_time": "2021-07-31T05:10:06.113598Z"
        },
        "id": "kTSDPGsQKEGs"
      },
      "outputs": [],
      "source": [
        "# Useful additional packages\n",
        "import matplotlib.pyplot as plt\n",
        "import numpy as np\n",
        "from math import pi"
      ]
    },
    {
      "cell_type": "code",
      "execution_count": 13,
      "metadata": {
        "ExecuteTime": {
          "end_time": "2021-07-31T05:10:07.863361Z",
          "start_time": "2021-07-31T05:10:06.401320Z"
        },
        "id": "XgfG2ATdKEGs"
      },
      "outputs": [],
      "source": [
        "from qiskit import QuantumCircuit, ClassicalRegister, QuantumRegister, transpile\n",
        "from qiskit.quantum_info import state_fidelity\n",
        "from qiskit_aer import AerSimulator, UnitarySimulator, StatevectorSimulator\n",
        "\n",
        "backend = UnitarySimulator()"
      ]
    },
    {
      "cell_type": "markdown",
      "metadata": {
        "id": "8FyLGMx2KEGs"
      },
      "source": [
        "## Single Qubit Quantum states <a name=\"single_states\"/>\n",
        "\n",
        "A single qubit quantum state can be written as\n",
        "\n",
        "$$\\left|\\psi\\right\\rangle = \\alpha\\left|0\\right\\rangle + \\beta \\left|1\\right\\rangle$$\n",
        "\n",
        "\n",
        "where $\\alpha$ and $\\beta$ are complex numbers. In a measurement the probability of the bit being in $\\left|0\\right\\rangle$ is $|\\alpha|^2$ and $\\left|1\\right\\rangle$ is $|\\beta|^2$. As a vector this is\n",
        "\n",
        "$$\n",
        "\\left|\\psi\\right\\rangle =  \n",
        "\\begin{pmatrix}\n",
        "\\alpha \\\\\n",
        "\\beta\n",
        "\\end{pmatrix}.\n",
        "$$\n",
        "\n",
        "Note, due to the conservation of probability $|\\alpha|^2+ |\\beta|^2 = 1$ and since global phase is undetectable $\\left|\\psi\\right\\rangle := e^{i\\delta} \\left|\\psi\\right\\rangle$ we only require two real numbers to describe a single qubit quantum state.\n",
        "\n",
        "A convenient representation is\n",
        "\n",
        "$$\\left|\\psi\\right\\rangle = \\cos(\\theta/2)\\left|0\\right\\rangle + \\sin(\\theta/2)e^{i\\phi}\\left|1\\right\\rangle$$\n",
        "\n",
        "where $0\\leq \\phi < 2\\pi$, and $0\\leq \\theta \\leq \\pi$.  From this, it is clear that there is a one-to-one correspondence between qubit states ($\\mathbb{C}^2$) and the points on the surface of a unit sphere ($\\mathbb{S}^2$). This is called the Bloch sphere representation of a qubit state.\n",
        "\n",
        "Quantum gates/operations are usually represented as matrices. A gate which acts on a qubit is represented by a $2\\times 2$ unitary matrix $U$. The action of the quantum gate is found by multiplying the matrix representing the gate with the vector which represents the quantum state.\n",
        "\n",
        "$$\\left|\\psi'\\right\\rangle = U\\left|\\psi\\right\\rangle$$\n",
        "\n",
        "A general unitary must be able to take the $\\left|0\\right\\rangle$ to the above state. That is\n",
        "\n",
        "$$\n",
        "U = \\begin{pmatrix}\n",
        "\\cos(\\theta/2) & a \\\\\n",
        "e^{i\\phi}\\sin(\\theta/2) & b\n",
        "\\end{pmatrix}\n",
        "$$\n",
        "\n",
        "where $a$ and $b$ are complex numbers constrained such that $U^\\dagger U = I$ for all $0\\leq\\theta\\leq\\pi$ and $0\\leq \\phi<2\\pi$. This gives 3 constraints and as such $a\\rightarrow -e^{i\\lambda}\\sin(\\theta/2)$ and $b\\rightarrow e^{i\\lambda+i\\phi}\\cos(\\theta/2)$ where $0\\leq \\lambda<2\\pi$ giving\n",
        "\n",
        "$$\n",
        "U(\\theta, \\phi, \\lambda) =\n",
        "    \\begin{pmatrix}\n",
        "        \\cos\\left(\\frac{\\theta}{2}\\right)          & -e^{i\\lambda}\\sin\\left(\\frac{\\theta}{2}\\right) \\\\\n",
        "        e^{i\\phi}\\sin\\left(\\frac{\\theta}{2}\\right) & e^{i(\\phi+\\lambda)}\\cos\\left(\\frac{\\theta}{2}\\right)\n",
        "    \\end{pmatrix}\n",
        "$$\n",
        "\n",
        "This is the most general form of a single qubit unitary."
      ]
    },
    {
      "cell_type": "markdown",
      "metadata": {
        "id": "nddl2bUCKEGt"
      },
      "source": [
        "## Single-Qubit Gates <a name=\"single_gates\"/>\n",
        "\n",
        "The single-qubit gates available are:\n",
        "- U gate\n",
        "- P gate\n",
        "- Identity gate\n",
        "- Pauli gates\n",
        "- Clifford gates\n",
        "- $C3$ gates\n",
        "- Standard rotation gates\n",
        "\n",
        "We have provided a backend: `unitary_simulator` to allow you to calculate the unitary matrices."
      ]
    },
    {
      "cell_type": "code",
      "execution_count": 7,
      "metadata": {
        "ExecuteTime": {
          "end_time": "2021-07-31T05:10:08.577924Z",
          "start_time": "2021-07-31T05:10:08.575044Z"
        },
        "id": "M7yBSa6mKEGt"
      },
      "outputs": [],
      "source": [
        "q = QuantumRegister(1)"
      ]
    },
    {
      "cell_type": "markdown",
      "metadata": {
        "id": "l6KRdUkyKEGt"
      },
      "source": [
        "### U gate\n",
        "\n",
        "In Qiskit we give you access to the general unitary using the $u$ gate, which has the following matrix form\n",
        "\n",
        "$$\n",
        "U(\\theta, \\phi, \\lambda) =\n",
        "    \\begin{pmatrix}\n",
        "        \\cos\\left(\\frac{\\theta}{2}\\right)          & -e^{i\\lambda}\\sin\\left(\\frac{\\theta}{2}\\right) \\\\\n",
        "        e^{i\\phi}\\sin\\left(\\frac{\\theta}{2}\\right) & e^{i(\\phi+\\lambda)}\\cos\\left(\\frac{\\theta}{2}\\right)\n",
        "    \\end{pmatrix}\n",
        "$$\n"
      ]
    },
    {
      "cell_type": "code",
      "execution_count": 8,
      "metadata": {
        "ExecuteTime": {
          "end_time": "2021-07-31T05:10:09.406278Z",
          "start_time": "2021-07-31T05:10:09.398661Z"
        },
        "colab": {
          "base_uri": "https://localhost:8080/",
          "height": 63
        },
        "id": "rmzgwyB1KEGt",
        "outputId": "58d76e8e-4db8-4544-a56a-0f41fb9f8e94"
      },
      "outputs": [
        {
          "output_type": "execute_result",
          "data": {
            "text/plain": [
              "    ┌────────────────┐\n",
              "q1: ┤ U(π/2,π/4,π/8) ├\n",
              "    └────────────────┘"
            ],
            "text/html": [
              "<pre style=\"word-wrap: normal;white-space: pre;background: #fff0;line-height: 1.1;font-family: &quot;Courier New&quot;,Courier,monospace\">    ┌────────────────┐\n",
              "q1: ┤ U(π/2,π/4,π/8) ├\n",
              "    └────────────────┘</pre>"
            ]
          },
          "metadata": {},
          "execution_count": 8
        }
      ],
      "source": [
        "qc = QuantumCircuit(q)\n",
        "qc.u(pi/2,pi/4,pi/8,q)\n",
        "qc.draw()"
      ]
    },
    {
      "cell_type": "code",
      "execution_count": 15,
      "metadata": {
        "ExecuteTime": {
          "end_time": "2021-07-31T05:10:10.420628Z",
          "start_time": "2021-07-31T05:10:10.342207Z"
        },
        "colab": {
          "base_uri": "https://localhost:8080/"
        },
        "id": "sooS59BIKEGu",
        "outputId": "c587ecac-e69e-4207-8928-8b8722fff543"
      },
      "outputs": [
        {
          "output_type": "stream",
          "name": "stdout",
          "text": [
            "Operator([[ 0.70710678+0.j        , -0.65328148-0.27059805j],\n",
            "          [ 0.5       +0.5j       ,  0.27059805+0.65328148j]],\n",
            "         input_dims=(2,), output_dims=(2,))\n"
          ]
        }
      ],
      "source": [
        "job = backend.run(qc)\n",
        "job.result().get_unitary()"
      ]
    },
    {
      "cell_type": "markdown",
      "metadata": {
        "id": "opB1Eq7kKEGu"
      },
      "source": [
        "<div class=\"alert alert-info\">\n",
        "Note on U gate deprecation\n",
        "\n",
        "The QuantumCircuit methods $u1$, $u2$ and $u3$ are now deprecated. Instead, the following replacements should be used.\n",
        "\n",
        "- $u1(\\lambda) = p(\\lambda) = u(0, 0, \\lambda)$\n",
        "\n",
        "- $u2(\\phi, \\lambda) = u(\\frac{\\pi}{2}, \\phi, \\lambda) = p(\\frac{\\pi}{2} + \\phi) \\cdot sx \\cdot p(\\frac{\\pi}{2} - \\lambda)$\n",
        "\n",
        "- $u3(\\theta, \\phi, \\lambda) = u(\\theta, \\phi, \\lambda) = p(\\phi + \\pi) \\cdot sx \\cdot p(\\theta + \\pi) \\cdot sx \\cdot p(\\lambda)$\n",
        "\n",
        "```python\n",
        "# qc.u1(lambda) is now:\n",
        "qc.p(lambda)\n",
        "\n",
        "# qc.u2(phi, lambda) is now:\n",
        "qc.u(pi/2, phi, lambda)\n",
        "\n",
        "# qc.u3(theta, phi, lambda) is now:\n",
        "qc.u(theta, phi, lambda)\n",
        "```\n",
        "</div>"
      ]
    },
    {
      "cell_type": "markdown",
      "metadata": {
        "id": "EiPoQVEkKEGu"
      },
      "source": [
        "### P gate\n",
        "\n",
        "The $p(\\lambda)= u(0, 0, \\lambda)$ gate has the matrix form\n",
        "\n",
        "$$\n",
        "p(\\lambda) =\n",
        "\\begin{pmatrix}\n",
        "1 & 0 \\\\\n",
        "0 & e^{i \\lambda}\n",
        "\\end{pmatrix},\n",
        "$$\n",
        "\n",
        "which is useful as it allows us to apply a quantum phase."
      ]
    },
    {
      "cell_type": "code",
      "execution_count": 16,
      "metadata": {
        "ExecuteTime": {
          "end_time": "2021-07-31T05:10:51.997454Z",
          "start_time": "2021-07-31T05:10:51.992620Z"
        },
        "colab": {
          "base_uri": "https://localhost:8080/",
          "height": 63
        },
        "id": "l9IarS-VKEGv",
        "outputId": "41f0bc37-5e41-4a57-ff1f-ac274aa29c53"
      },
      "outputs": [
        {
          "output_type": "execute_result",
          "data": {
            "text/plain": [
              "    ┌────────┐\n",
              "q1: ┤ P(π/2) ├\n",
              "    └────────┘"
            ],
            "text/html": [
              "<pre style=\"word-wrap: normal;white-space: pre;background: #fff0;line-height: 1.1;font-family: &quot;Courier New&quot;,Courier,monospace\">    ┌────────┐\n",
              "q1: ┤ P(π/2) ├\n",
              "    └────────┘</pre>"
            ]
          },
          "metadata": {},
          "execution_count": 16
        }
      ],
      "source": [
        "qc = QuantumCircuit(q)\n",
        "qc.p(pi/2,q)\n",
        "qc.draw()"
      ]
    },
    {
      "cell_type": "code",
      "execution_count": 17,
      "metadata": {
        "ExecuteTime": {
          "end_time": "2021-07-31T05:10:58.149042Z",
          "start_time": "2021-07-31T05:10:58.138158Z"
        },
        "colab": {
          "base_uri": "https://localhost:8080/"
        },
        "id": "rwVVpvRfKEGv",
        "outputId": "115fe762-ac26-4abe-9418-91e162199631"
      },
      "outputs": [
        {
          "output_type": "stream",
          "name": "stdout",
          "text": [
            "Operator([[1.+0.j, 0.+0.j],\n",
            "          [0.+0.j, 0.+1.j]],\n",
            "         input_dims=(2,), output_dims=(2,))\n"
          ]
        }
      ],
      "source": [
        "job = backend.run(qc)\n",
        "job.result().get_unitary(qc, decimals=3)"
      ]
    },
    {
      "cell_type": "markdown",
      "metadata": {
        "id": "2U-A5iF1KEGv"
      },
      "source": [
        "### Identity gate\n",
        "\n",
        "The identity gate is $Id = p(0)$."
      ]
    },
    {
      "cell_type": "code",
      "execution_count": 18,
      "metadata": {
        "ExecuteTime": {
          "end_time": "2021-07-31T05:11:00.799001Z",
          "start_time": "2021-07-31T05:11:00.794172Z"
        },
        "colab": {
          "base_uri": "https://localhost:8080/",
          "height": 63
        },
        "id": "psom1VLsKEGv",
        "outputId": "2ce1f2fa-b363-4931-fb2e-754dcc2fecdd"
      },
      "outputs": [
        {
          "output_type": "execute_result",
          "data": {
            "text/plain": [
              "    ┌───┐\n",
              "q1: ┤ I ├\n",
              "    └───┘"
            ],
            "text/html": [
              "<pre style=\"word-wrap: normal;white-space: pre;background: #fff0;line-height: 1.1;font-family: &quot;Courier New&quot;,Courier,monospace\">    ┌───┐\n",
              "q1: ┤ I ├\n",
              "    └───┘</pre>"
            ]
          },
          "metadata": {},
          "execution_count": 18
        }
      ],
      "source": [
        "qc = QuantumCircuit(q)\n",
        "qc.id(q)\n",
        "qc.draw()"
      ]
    },
    {
      "cell_type": "code",
      "execution_count": 19,
      "metadata": {
        "ExecuteTime": {
          "end_time": "2021-07-31T05:11:03.627749Z",
          "start_time": "2021-07-31T05:11:03.619164Z"
        },
        "colab": {
          "base_uri": "https://localhost:8080/"
        },
        "id": "Q4ydD58DKEGv",
        "outputId": "3c4de4b4-94a5-4874-f5dd-56703de14f4b"
      },
      "outputs": [
        {
          "output_type": "stream",
          "name": "stdout",
          "text": [
            "Operator([[1.+0.j, 0.+0.j],\n",
            "          [0.+0.j, 1.+0.j]],\n",
            "         input_dims=(2,), output_dims=(2,))\n"
          ]
        }
      ],
      "source": [
        "job = backend.run(qc)\n",
        "job.result().get_unitary(qc, decimals=3)"
      ]
    },
    {
      "cell_type": "markdown",
      "metadata": {
        "id": "oVBqK6wWKEGw"
      },
      "source": [
        "### Pauli gates\n",
        "\n",
        "#### $X$: bit-flip gate\n",
        "\n",
        "The bit-flip gate $X$ is defined as:\n",
        "\n",
        "$$\n",
        "X   =  \n",
        "\\begin{pmatrix}\n",
        "0 & 1\\\\\n",
        "1 & 0\n",
        "\\end{pmatrix}= u(\\pi,0,\\pi)\n",
        "$$"
      ]
    },
    {
      "cell_type": "code",
      "execution_count": 20,
      "metadata": {
        "ExecuteTime": {
          "end_time": "2021-07-31T05:11:05.287138Z",
          "start_time": "2021-07-31T05:11:05.281859Z"
        },
        "colab": {
          "base_uri": "https://localhost:8080/",
          "height": 63
        },
        "id": "BpajIaUOKEGw",
        "outputId": "a8c8d391-6cdd-4e99-88de-a513334c4436"
      },
      "outputs": [
        {
          "output_type": "execute_result",
          "data": {
            "text/plain": [
              "    ┌───┐\n",
              "q1: ┤ X ├\n",
              "    └───┘"
            ],
            "text/html": [
              "<pre style=\"word-wrap: normal;white-space: pre;background: #fff0;line-height: 1.1;font-family: &quot;Courier New&quot;,Courier,monospace\">    ┌───┐\n",
              "q1: ┤ X ├\n",
              "    └───┘</pre>"
            ]
          },
          "metadata": {},
          "execution_count": 20
        }
      ],
      "source": [
        "qc = QuantumCircuit(q)\n",
        "qc.x(q)\n",
        "qc.draw()"
      ]
    },
    {
      "cell_type": "code",
      "execution_count": 21,
      "metadata": {
        "ExecuteTime": {
          "end_time": "2021-07-31T05:11:07.285569Z",
          "start_time": "2021-07-31T05:11:07.276242Z"
        },
        "colab": {
          "base_uri": "https://localhost:8080/"
        },
        "id": "tB_AcaD2KEGw",
        "outputId": "90c38d0a-8080-4d4f-bcf2-0e164afc7b28"
      },
      "outputs": [
        {
          "output_type": "stream",
          "name": "stdout",
          "text": [
            "Operator([[0.+0.j, 1.+0.j],\n",
            "          [1.+0.j, 0.+0.j]],\n",
            "         input_dims=(2,), output_dims=(2,))\n"
          ]
        }
      ],
      "source": [
        "job = backend.run(qc)\n",
        "job.result().get_unitary(qc, decimals=3)"
      ]
    },
    {
      "cell_type": "markdown",
      "metadata": {
        "id": "jvOj6GoQKEGw"
      },
      "source": [
        "#### $Y$: bit- and phase-flip gate\n",
        "\n",
        "The $Y$ gate is defined as:\n",
        "\n",
        "$$\n",
        "Y  =\n",
        "\\begin{pmatrix}\n",
        "0 & -i\\\\\n",
        "i & 0\n",
        "\\end{pmatrix}=u(\\pi,\\pi/2,\\pi/2)\n",
        "$$"
      ]
    },
    {
      "cell_type": "code",
      "execution_count": 22,
      "metadata": {
        "ExecuteTime": {
          "end_time": "2021-07-31T05:11:09.274252Z",
          "start_time": "2021-07-31T05:11:09.270141Z"
        },
        "colab": {
          "base_uri": "https://localhost:8080/",
          "height": 63
        },
        "id": "gzFCgGuUKEGw",
        "outputId": "f7fd0ad8-d02e-4f64-8b27-31a9f1674aae"
      },
      "outputs": [
        {
          "output_type": "execute_result",
          "data": {
            "text/plain": [
              "    ┌───┐\n",
              "q1: ┤ Y ├\n",
              "    └───┘"
            ],
            "text/html": [
              "<pre style=\"word-wrap: normal;white-space: pre;background: #fff0;line-height: 1.1;font-family: &quot;Courier New&quot;,Courier,monospace\">    ┌───┐\n",
              "q1: ┤ Y ├\n",
              "    └───┘</pre>"
            ]
          },
          "metadata": {},
          "execution_count": 22
        }
      ],
      "source": [
        "qc = QuantumCircuit(q)\n",
        "qc.y(q)\n",
        "qc.draw()"
      ]
    },
    {
      "cell_type": "code",
      "execution_count": 23,
      "metadata": {
        "ExecuteTime": {
          "end_time": "2021-07-31T05:11:11.878524Z",
          "start_time": "2021-07-31T05:11:11.868931Z"
        },
        "colab": {
          "base_uri": "https://localhost:8080/"
        },
        "id": "hLVOeWdiKEGw",
        "outputId": "292cdffa-854f-493c-cef4-03ab5c973e18"
      },
      "outputs": [
        {
          "output_type": "stream",
          "name": "stdout",
          "text": [
            "Operator([[0.-0.j, 0.-1.j],\n",
            "          [0.+1.j, 0.+0.j]],\n",
            "         input_dims=(2,), output_dims=(2,))\n"
          ]
        }
      ],
      "source": [
        "job = backend.run(qc)\n",
        "job.result().get_unitary(qc, decimals=3)"
      ]
    },
    {
      "cell_type": "markdown",
      "metadata": {
        "id": "KZv3JpmIKEGw"
      },
      "source": [
        "#### $Z$: phase-flip gate\n",
        "\n",
        "The phase-flip gate $Z$ is defined as:\n",
        "\n",
        "$$\n",
        "Z =\n",
        "\\begin{pmatrix}\n",
        "1 & 0\\\\\n",
        "0 & -1\n",
        "\\end{pmatrix}=p(\\pi)\n",
        "$$"
      ]
    },
    {
      "cell_type": "code",
      "execution_count": 24,
      "metadata": {
        "ExecuteTime": {
          "end_time": "2021-07-31T05:11:13.903719Z",
          "start_time": "2021-07-31T05:11:13.898408Z"
        },
        "colab": {
          "base_uri": "https://localhost:8080/",
          "height": 63
        },
        "id": "I95-EEUFKEGw",
        "outputId": "102e3834-06eb-43c5-b5e4-cd0400eb0d68"
      },
      "outputs": [
        {
          "output_type": "execute_result",
          "data": {
            "text/plain": [
              "    ┌───┐\n",
              "q1: ┤ Z ├\n",
              "    └───┘"
            ],
            "text/html": [
              "<pre style=\"word-wrap: normal;white-space: pre;background: #fff0;line-height: 1.1;font-family: &quot;Courier New&quot;,Courier,monospace\">    ┌───┐\n",
              "q1: ┤ Z ├\n",
              "    └───┘</pre>"
            ]
          },
          "metadata": {},
          "execution_count": 24
        }
      ],
      "source": [
        "qc = QuantumCircuit(q)\n",
        "qc.z(q)\n",
        "qc.draw()"
      ]
    },
    {
      "cell_type": "code",
      "execution_count": 25,
      "metadata": {
        "ExecuteTime": {
          "end_time": "2021-07-31T05:11:17.430999Z",
          "start_time": "2021-07-31T05:11:17.420906Z"
        },
        "colab": {
          "base_uri": "https://localhost:8080/"
        },
        "id": "RAiIl6pwKEGx",
        "outputId": "0d4a8391-c979-4182-ada1-0ddc6c28fbb8"
      },
      "outputs": [
        {
          "output_type": "stream",
          "name": "stdout",
          "text": [
            "Operator([[ 1.+0.j,  0.+0.j],\n",
            "          [-0.+0.j, -1.+0.j]],\n",
            "         input_dims=(2,), output_dims=(2,))\n"
          ]
        }
      ],
      "source": [
        "job = backend.run(qc)\n",
        "job.result().get_unitary(qc, decimals=3)"
      ]
    },
    {
      "cell_type": "markdown",
      "metadata": {
        "id": "ZgezTulyKEGx"
      },
      "source": [
        "### Clifford gates\n",
        "\n",
        "#### Hadamard gate\n",
        "\n",
        "$$\n",
        "H =\n",
        "\\frac{1}{\\sqrt{2}}\n",
        "\\begin{pmatrix}\n",
        "1 & 1\\\\\n",
        "1 & -1\n",
        "\\end{pmatrix}= u(\\pi/2,0,\\pi)\n",
        "$$"
      ]
    },
    {
      "cell_type": "code",
      "execution_count": 26,
      "metadata": {
        "ExecuteTime": {
          "end_time": "2021-07-31T05:11:24.374244Z",
          "start_time": "2021-07-31T05:11:24.369684Z"
        },
        "colab": {
          "base_uri": "https://localhost:8080/",
          "height": 63
        },
        "id": "Utgxgw8uKEGx",
        "outputId": "c7a05588-912a-4311-d934-5159415ed76b"
      },
      "outputs": [
        {
          "output_type": "execute_result",
          "data": {
            "text/plain": [
              "    ┌───┐\n",
              "q1: ┤ H ├\n",
              "    └───┘"
            ],
            "text/html": [
              "<pre style=\"word-wrap: normal;white-space: pre;background: #fff0;line-height: 1.1;font-family: &quot;Courier New&quot;,Courier,monospace\">    ┌───┐\n",
              "q1: ┤ H ├\n",
              "    └───┘</pre>"
            ]
          },
          "metadata": {},
          "execution_count": 26
        }
      ],
      "source": [
        "qc = QuantumCircuit(q)\n",
        "qc.h(q)\n",
        "qc.draw()"
      ]
    },
    {
      "cell_type": "code",
      "execution_count": 27,
      "metadata": {
        "ExecuteTime": {
          "end_time": "2021-07-31T05:11:24.964793Z",
          "start_time": "2021-07-31T05:11:24.956019Z"
        },
        "colab": {
          "base_uri": "https://localhost:8080/"
        },
        "id": "0qu3KGD7KEGx",
        "outputId": "128291d2-d2b0-494d-b6c8-8f0891c3385d"
      },
      "outputs": [
        {
          "output_type": "stream",
          "name": "stdout",
          "text": [
            "Operator([[ 0.707+0.j,  0.707-0.j],\n",
            "          [ 0.707+0.j, -0.707+0.j]],\n",
            "         input_dims=(2,), output_dims=(2,))\n"
          ]
        }
      ],
      "source": [
        "job = backend.run(qc)\n",
        "job.result().get_unitary(qc, decimals=3)"
      ]
    },
    {
      "cell_type": "markdown",
      "metadata": {
        "id": "bQUlJvRyKEGx"
      },
      "source": [
        "#### $S$ (or, $\\sqrt{Z}$ phase) gate\n",
        "\n",
        "$$\n",
        "S =\n",
        "\\begin{pmatrix}\n",
        "1 & 0\\\\\n",
        "0 & i\n",
        "\\end{pmatrix}= p(\\pi/2)\n",
        "$$"
      ]
    },
    {
      "cell_type": "code",
      "execution_count": 28,
      "metadata": {
        "ExecuteTime": {
          "end_time": "2021-07-31T05:11:27.577029Z",
          "start_time": "2021-07-31T05:11:27.572229Z"
        },
        "colab": {
          "base_uri": "https://localhost:8080/",
          "height": 63
        },
        "id": "3jg420NgKEGy",
        "outputId": "e7e188ae-be10-43d1-a619-cf83fdd962bd"
      },
      "outputs": [
        {
          "output_type": "execute_result",
          "data": {
            "text/plain": [
              "    ┌───┐\n",
              "q1: ┤ S ├\n",
              "    └───┘"
            ],
            "text/html": [
              "<pre style=\"word-wrap: normal;white-space: pre;background: #fff0;line-height: 1.1;font-family: &quot;Courier New&quot;,Courier,monospace\">    ┌───┐\n",
              "q1: ┤ S ├\n",
              "    └───┘</pre>"
            ]
          },
          "metadata": {},
          "execution_count": 28
        }
      ],
      "source": [
        "qc = QuantumCircuit(q)\n",
        "qc.s(q)\n",
        "qc.draw()"
      ]
    },
    {
      "cell_type": "code",
      "execution_count": 29,
      "metadata": {
        "ExecuteTime": {
          "end_time": "2021-07-31T05:11:30.150288Z",
          "start_time": "2021-07-31T05:11:30.141012Z"
        },
        "colab": {
          "base_uri": "https://localhost:8080/"
        },
        "id": "LFjFnMq-KEGy",
        "outputId": "1225152f-6d69-4135-88c6-d3d7095b6709"
      },
      "outputs": [
        {
          "output_type": "stream",
          "name": "stdout",
          "text": [
            "Operator([[ 1.+0.j,  0.+0.j],\n",
            "          [-0.+0.j, -0.+1.j]],\n",
            "         input_dims=(2,), output_dims=(2,))\n"
          ]
        }
      ],
      "source": [
        "job = backend.run(qc)\n",
        "job.result().get_unitary(qc, decimals=3)"
      ]
    },
    {
      "cell_type": "markdown",
      "metadata": {
        "id": "tzf23SPhKEGy"
      },
      "source": [
        "#### $S^{\\dagger}$ (or, conjugate of $\\sqrt{Z}$ phase) gate\n",
        "\n",
        "$$\n",
        "S^{\\dagger} =\n",
        "\\begin{pmatrix}\n",
        "1 & 0\\\\\n",
        "0 & -i\n",
        "\\end{pmatrix}= p(-\\pi/2)\n",
        "$$\n"
      ]
    },
    {
      "cell_type": "code",
      "execution_count": 30,
      "metadata": {
        "ExecuteTime": {
          "end_time": "2021-07-31T05:11:31.674786Z",
          "start_time": "2021-07-31T05:11:31.669677Z"
        },
        "colab": {
          "base_uri": "https://localhost:8080/",
          "height": 63
        },
        "id": "_9PZ2NurKEGz",
        "outputId": "958bcc1f-b624-4d0a-8a53-ba46d50fd622"
      },
      "outputs": [
        {
          "output_type": "execute_result",
          "data": {
            "text/plain": [
              "    ┌─────┐\n",
              "q1: ┤ Sdg ├\n",
              "    └─────┘"
            ],
            "text/html": [
              "<pre style=\"word-wrap: normal;white-space: pre;background: #fff0;line-height: 1.1;font-family: &quot;Courier New&quot;,Courier,monospace\">    ┌─────┐\n",
              "q1: ┤ Sdg ├\n",
              "    └─────┘</pre>"
            ]
          },
          "metadata": {},
          "execution_count": 30
        }
      ],
      "source": [
        "qc = QuantumCircuit(q)\n",
        "qc.sdg(q)\n",
        "qc.draw()"
      ]
    },
    {
      "cell_type": "code",
      "execution_count": 32,
      "metadata": {
        "ExecuteTime": {
          "end_time": "2021-07-31T05:11:34.228098Z",
          "start_time": "2021-07-31T05:11:34.218323Z"
        },
        "colab": {
          "base_uri": "https://localhost:8080/"
        },
        "id": "RBh5AGgaKEGz",
        "outputId": "be0e95b6-4d03-439a-bc8b-8b7c80cce299"
      },
      "outputs": [
        {
          "output_type": "stream",
          "name": "stdout",
          "text": [
            "Operator([[1.   +0.j   , 0.   +0.j   ],\n",
            "          [0.   +0.j   , 0.707+0.707j]],\n",
            "         input_dims=(2,), output_dims=(2,))\n"
          ]
        }
      ],
      "source": [
        "job = backend.run(transpile(qc, backend))\n",
        "job.result().get_unitary(qc, decimals=3)"
      ]
    },
    {
      "cell_type": "markdown",
      "metadata": {
        "id": "ELDPOWNKKEGz"
      },
      "source": [
        "### $C3$ gates\n",
        "#### $T$ (or, $\\sqrt{S}$ phase) gate\n",
        "\n",
        "$$\n",
        "T =\n",
        "\\begin{pmatrix}\n",
        "1 & 0\\\\\n",
        "0 & e^{i \\pi/4}\n",
        "\\end{pmatrix}= p(\\pi/4)\n",
        "$$"
      ]
    },
    {
      "cell_type": "code",
      "execution_count": 31,
      "metadata": {
        "ExecuteTime": {
          "end_time": "2021-07-31T05:11:35.573569Z",
          "start_time": "2021-07-31T05:11:35.568858Z"
        },
        "colab": {
          "base_uri": "https://localhost:8080/",
          "height": 63
        },
        "id": "5NIOlgLgKEGz",
        "outputId": "7ec56aea-3087-40ca-e09c-7f9ea552a6f0"
      },
      "outputs": [
        {
          "output_type": "execute_result",
          "data": {
            "text/plain": [
              "    ┌───┐\n",
              "q1: ┤ T ├\n",
              "    └───┘"
            ],
            "text/html": [
              "<pre style=\"word-wrap: normal;white-space: pre;background: #fff0;line-height: 1.1;font-family: &quot;Courier New&quot;,Courier,monospace\">    ┌───┐\n",
              "q1: ┤ T ├\n",
              "    └───┘</pre>"
            ]
          },
          "metadata": {},
          "execution_count": 31
        }
      ],
      "source": [
        "qc = QuantumCircuit(q)\n",
        "qc.t(q)\n",
        "qc.draw()"
      ]
    },
    {
      "cell_type": "code",
      "execution_count": 33,
      "metadata": {
        "ExecuteTime": {
          "end_time": "2021-07-31T05:11:38.030353Z",
          "start_time": "2021-07-31T05:11:38.020798Z"
        },
        "colab": {
          "base_uri": "https://localhost:8080/"
        },
        "id": "WuW2Fav-KEGz",
        "outputId": "08535ed2-76bd-4fbf-f223-8f7d2e11ee7a"
      },
      "outputs": [
        {
          "output_type": "stream",
          "name": "stdout",
          "text": [
            "Operator([[1.   +0.j   , 0.   +0.j   ],\n",
            "          [0.   +0.j   , 0.707+0.707j]],\n",
            "         input_dims=(2,), output_dims=(2,))\n"
          ]
        }
      ],
      "source": [
        "job = backend.run(qc)\n",
        "job.result().get_unitary(qc, decimals=3)"
      ]
    },
    {
      "cell_type": "markdown",
      "metadata": {
        "id": "PEJfIY1iKEG0"
      },
      "source": [
        "#### $T^{\\dagger}$ (or, conjugate of $\\sqrt{S}$ phase) gate\n",
        "\n",
        "$$\n",
        "T^{\\dagger} =  \n",
        "\\begin{pmatrix}\n",
        "1 & 0\\\\\n",
        "0 & e^{-i \\pi/4}\n",
        "\\end{pmatrix}= p(-\\pi/4)\n",
        "$$"
      ]
    },
    {
      "cell_type": "code",
      "execution_count": 34,
      "metadata": {
        "ExecuteTime": {
          "end_time": "2021-07-31T05:11:39.747528Z",
          "start_time": "2021-07-31T05:11:39.742799Z"
        },
        "colab": {
          "base_uri": "https://localhost:8080/",
          "height": 63
        },
        "id": "bD0SgWnOKEG0",
        "outputId": "9a61b1fa-f5a7-4787-f0fc-e220681b7785"
      },
      "outputs": [
        {
          "output_type": "execute_result",
          "data": {
            "text/plain": [
              "    ┌─────┐\n",
              "q1: ┤ Tdg ├\n",
              "    └─────┘"
            ],
            "text/html": [
              "<pre style=\"word-wrap: normal;white-space: pre;background: #fff0;line-height: 1.1;font-family: &quot;Courier New&quot;,Courier,monospace\">    ┌─────┐\n",
              "q1: ┤ Tdg ├\n",
              "    └─────┘</pre>"
            ]
          },
          "metadata": {},
          "execution_count": 34
        }
      ],
      "source": [
        "qc = QuantumCircuit(q)\n",
        "qc.tdg(q)\n",
        "qc.draw()"
      ]
    },
    {
      "cell_type": "code",
      "execution_count": 35,
      "metadata": {
        "ExecuteTime": {
          "end_time": "2021-07-31T05:11:43.129450Z",
          "start_time": "2021-07-31T05:11:43.119304Z"
        },
        "colab": {
          "base_uri": "https://localhost:8080/"
        },
        "id": "CPvA9Q1TKEG0",
        "outputId": "93c9141e-d873-42fe-cb2a-d44c56b6515a"
      },
      "outputs": [
        {
          "output_type": "stream",
          "name": "stdout",
          "text": [
            "Operator([[1.   +0.j   , 0.   +0.j   ],\n",
            "          [0.   +0.j   , 0.707-0.707j]],\n",
            "         input_dims=(2,), output_dims=(2,))\n"
          ]
        }
      ],
      "source": [
        "job = backend.run(qc)\n",
        "job.result().get_unitary(qc, decimals=3)"
      ]
    },
    {
      "cell_type": "markdown",
      "metadata": {
        "id": "0zs10MPHKEG1"
      },
      "source": [
        "### Standard Rotations\n",
        "\n",
        "The standard rotation gates are those that define rotations around the Paulis $P=\\{X,Y,Z\\}$. They are defined as\n",
        "\n",
        "$$ R_P(\\theta) = \\exp(-i \\theta P/2) = \\cos(\\theta/2)I -i \\sin(\\theta/2)P$$\n",
        "\n",
        "#### Rotation around X-axis\n",
        "\n",
        "$$\n",
        "R_x(\\theta) =\n",
        "\\begin{pmatrix}\n",
        "\\cos(\\theta/2) & -i\\sin(\\theta/2)\\\\\n",
        "-i\\sin(\\theta/2) & \\cos(\\theta/2)\n",
        "\\end{pmatrix} = u(\\theta, -\\pi/2,\\pi/2)\n",
        "$$"
      ]
    },
    {
      "cell_type": "code",
      "execution_count": 36,
      "metadata": {
        "ExecuteTime": {
          "end_time": "2021-07-31T05:11:43.968605Z",
          "start_time": "2021-07-31T05:11:43.963670Z"
        },
        "colab": {
          "base_uri": "https://localhost:8080/",
          "height": 63
        },
        "id": "Y9mX4SbgKEG1",
        "outputId": "82fb3f1d-5d91-49f5-ee20-3f665af581a1"
      },
      "outputs": [
        {
          "output_type": "execute_result",
          "data": {
            "text/plain": [
              "    ┌─────────┐\n",
              "q1: ┤ Rx(π/2) ├\n",
              "    └─────────┘"
            ],
            "text/html": [
              "<pre style=\"word-wrap: normal;white-space: pre;background: #fff0;line-height: 1.1;font-family: &quot;Courier New&quot;,Courier,monospace\">    ┌─────────┐\n",
              "q1: ┤ Rx(π/2) ├\n",
              "    └─────────┘</pre>"
            ]
          },
          "metadata": {},
          "execution_count": 36
        }
      ],
      "source": [
        "qc = QuantumCircuit(q)\n",
        "qc.rx(pi/2,q)\n",
        "qc.draw()"
      ]
    },
    {
      "cell_type": "code",
      "execution_count": 37,
      "metadata": {
        "ExecuteTime": {
          "end_time": "2021-07-31T05:11:47.140262Z",
          "start_time": "2021-07-31T05:11:47.128900Z"
        },
        "colab": {
          "base_uri": "https://localhost:8080/"
        },
        "id": "-hP5Kc0SKEG1",
        "outputId": "9f72004a-3fc2-41ae-a2ed-a30b894902ae"
      },
      "outputs": [
        {
          "output_type": "stream",
          "name": "stdout",
          "text": [
            "Operator([[0.707+0.j   , 0.   -0.707j],\n",
            "          [0.   -0.707j, 0.707+0.j   ]],\n",
            "         input_dims=(2,), output_dims=(2,))\n"
          ]
        }
      ],
      "source": [
        "job = backend.run(qc)\n",
        "job.result().get_unitary(qc, decimals=3)"
      ]
    },
    {
      "cell_type": "markdown",
      "metadata": {
        "id": "QeaEUJjbKEG1"
      },
      "source": [
        "#### Rotation around Y-axis\n",
        "\n",
        "$$\n",
        "R_y(\\theta) =\n",
        "\\begin{pmatrix}\n",
        "\\cos(\\theta/2) & - \\sin(\\theta/2)\\\\\n",
        "\\sin(\\theta/2) & \\cos(\\theta/2).\n",
        "\\end{pmatrix} =u(\\theta,0,0)\n",
        "$$"
      ]
    },
    {
      "cell_type": "code",
      "execution_count": 38,
      "metadata": {
        "ExecuteTime": {
          "end_time": "2021-07-31T05:11:48.483090Z",
          "start_time": "2021-07-31T05:11:48.477062Z"
        },
        "colab": {
          "base_uri": "https://localhost:8080/",
          "height": 63
        },
        "id": "RnTkeuyYKEG1",
        "outputId": "85157af8-8b7d-437c-94e6-4dd7a70db44a"
      },
      "outputs": [
        {
          "output_type": "execute_result",
          "data": {
            "text/plain": [
              "    ┌─────────┐\n",
              "q1: ┤ Ry(π/2) ├\n",
              "    └─────────┘"
            ],
            "text/html": [
              "<pre style=\"word-wrap: normal;white-space: pre;background: #fff0;line-height: 1.1;font-family: &quot;Courier New&quot;,Courier,monospace\">    ┌─────────┐\n",
              "q1: ┤ Ry(π/2) ├\n",
              "    └─────────┘</pre>"
            ]
          },
          "metadata": {},
          "execution_count": 38
        }
      ],
      "source": [
        "qc = QuantumCircuit(q)\n",
        "qc.ry(pi/2,q)\n",
        "qc.draw()"
      ]
    },
    {
      "cell_type": "code",
      "execution_count": 39,
      "metadata": {
        "ExecuteTime": {
          "end_time": "2021-07-31T05:11:51.011307Z",
          "start_time": "2021-07-31T05:11:51.001011Z"
        },
        "colab": {
          "base_uri": "https://localhost:8080/"
        },
        "id": "PEP1bSLeKEG1",
        "outputId": "a8d63c0e-d44d-4337-fb6c-4bb1ab500036"
      },
      "outputs": [
        {
          "output_type": "stream",
          "name": "stdout",
          "text": [
            "Operator([[ 0.707+0.j, -0.707+0.j],\n",
            "          [ 0.707+0.j,  0.707+0.j]],\n",
            "         input_dims=(2,), output_dims=(2,))\n"
          ]
        }
      ],
      "source": [
        "job = backend.run(qc)\n",
        "job.result().get_unitary(qc, decimals=3)"
      ]
    },
    {
      "cell_type": "markdown",
      "metadata": {
        "id": "7BHRHKI2KEG2"
      },
      "source": [
        "#### Rotation around Z-axis\n",
        "\n",
        "$$\n",
        "R_z(\\phi) =\n",
        "\\begin{pmatrix}\n",
        "e^{-i \\phi/2} & 0 \\\\\n",
        "0 & e^{i \\phi/2}\n",
        "\\end{pmatrix}\\equiv p(\\phi)\n",
        "$$\n",
        "\n",
        "Note that here we have used an equivalent as it is different to $p$ by a global phase $e^{-i \\phi/2}$."
      ]
    },
    {
      "cell_type": "code",
      "execution_count": 40,
      "metadata": {
        "ExecuteTime": {
          "end_time": "2021-07-31T05:11:51.729618Z",
          "start_time": "2021-07-31T05:11:51.724574Z"
        },
        "colab": {
          "base_uri": "https://localhost:8080/",
          "height": 63
        },
        "id": "f0Xd6Vg-KEG2",
        "outputId": "7548ae29-cc2d-44a8-a51d-939880af0645"
      },
      "outputs": [
        {
          "output_type": "execute_result",
          "data": {
            "text/plain": [
              "    ┌─────────┐\n",
              "q1: ┤ Rz(π/2) ├\n",
              "    └─────────┘"
            ],
            "text/html": [
              "<pre style=\"word-wrap: normal;white-space: pre;background: #fff0;line-height: 1.1;font-family: &quot;Courier New&quot;,Courier,monospace\">    ┌─────────┐\n",
              "q1: ┤ Rz(π/2) ├\n",
              "    └─────────┘</pre>"
            ]
          },
          "metadata": {},
          "execution_count": 40
        }
      ],
      "source": [
        "qc = QuantumCircuit(q)\n",
        "qc.rz(pi/2,q)\n",
        "qc.draw()"
      ]
    },
    {
      "cell_type": "code",
      "execution_count": 41,
      "metadata": {
        "ExecuteTime": {
          "end_time": "2021-07-31T05:11:54.372720Z",
          "start_time": "2021-07-31T05:11:54.363623Z"
        },
        "colab": {
          "base_uri": "https://localhost:8080/"
        },
        "id": "xiIGThnhKEG2",
        "outputId": "0f911ff5-f30f-4ff1-8b7e-ebfee8b89c9f"
      },
      "outputs": [
        {
          "output_type": "stream",
          "name": "stdout",
          "text": [
            "Operator([[0.707-0.707j, 0.   +0.j   ],\n",
            "          [0.   +0.j   , 0.707+0.707j]],\n",
            "         input_dims=(2,), output_dims=(2,))\n"
          ]
        }
      ],
      "source": [
        "job = backend.run(qc)\n",
        "job.result().get_unitary(qc, decimals=3)"
      ]
    },
    {
      "cell_type": "markdown",
      "metadata": {
        "id": "YBhp0CKAKEG2"
      },
      "source": [
        "Note this is different due only to a global phase."
      ]
    },
    {
      "cell_type": "markdown",
      "metadata": {
        "id": "r7Fl66XpKEG2"
      },
      "source": [
        "## Multi-Qubit Gates <a name=\"multi_gates\"/>\n",
        "\n",
        "### Mathematical Preliminaries\n",
        "\n",
        "The space of a quantum computer grows exponentially with the number of qubits. For $n$ qubits the complex vector space has dimension $d=2^n$. To describe states of a multi-qubit system, the tensor product is used to \"glue together\" operators and basis vectors.\n",
        "\n",
        "Let's start by considering a 2-qubit system. Given two operators $A$ and $B$ that each act on one qubit, the joint operator $A \\otimes B$ acting on two qubits is\n",
        "\n",
        "$$\\begin{equation}\n",
        "\tA\\otimes B =\n",
        "\t\\begin{pmatrix}\n",
        "\t\tA_{00} \\begin{pmatrix}\n",
        "\t\t\tB_{00} & B_{01} \\\\\n",
        "\t\t\tB_{10} & B_{11}\n",
        "\t\t\\end{pmatrix} & A_{01} \t\\begin{pmatrix}\n",
        "\t\t\t\tB_{00} & B_{01} \\\\\n",
        "\t\t\t\tB_{10} & B_{11}\n",
        "\t\t\t\\end{pmatrix} \\\\\n",
        "\t\tA_{10} \t\\begin{pmatrix}\n",
        "\t\t\t\t\tB_{00} & B_{01} \\\\\n",
        "\t\t\t\t\tB_{10} & B_{11}\n",
        "\t\t\t\t\\end{pmatrix} & A_{11} \t\\begin{pmatrix}\n",
        "\t\t\t\t\t\t\tB_{00} & B_{01} \\\\\n",
        "\t\t\t\t\t\t\tB_{10} & B_{11}\n",
        "\t\t\t\t\t\t\\end{pmatrix}\n",
        "\t\\end{pmatrix},\n",
        "\\end{equation}$$\n",
        "\n",
        "where $A_{jk}$ and $B_{lm}$ are the matrix elements of $A$ and $B$, respectively.\n",
        "\n",
        "Analogously, the basis vectors for the 2-qubit system are formed using the tensor product of basis vectors for a single qubit:\n",
        "$$\\begin{equation}\\begin{split}\n",
        "\t\\left|{00}\\right\\rangle &= \\begin{pmatrix}\n",
        "\t\t1 \\begin{pmatrix}\n",
        "\t\t\t1  \\\\\n",
        "\t\t\t0\n",
        "\t\t\\end{pmatrix} \\\\\n",
        "\t\t0 \\begin{pmatrix}\n",
        "\t\t\t1  \\\\\n",
        "\t\t\t0\n",
        "\t\t\\end{pmatrix}\n",
        "\t\\end{pmatrix} = \\begin{pmatrix} 1 \\\\ 0 \\\\ 0 \\\\0 \\end{pmatrix}~~~\\left|{01}\\right\\rangle = \\begin{pmatrix}\n",
        "\t1 \\begin{pmatrix}\n",
        "\t0 \\\\\n",
        "\t1\n",
        "\t\\end{pmatrix} \\\\\n",
        "\t0 \\begin{pmatrix}\n",
        "\t0  \\\\\n",
        "\t1\n",
        "\t\\end{pmatrix}\n",
        "\t\\end{pmatrix} = \\begin{pmatrix}0 \\\\ 1 \\\\ 0 \\\\ 0 \\end{pmatrix}\\end{split}\n",
        "\\end{equation}$$\n",
        "    \n",
        "$$\\begin{equation}\\begin{split}\\left|{10}\\right\\rangle = \\begin{pmatrix}\n",
        "\t0\\begin{pmatrix}\n",
        "\t1  \\\\\n",
        "\t0\n",
        "\t\\end{pmatrix} \\\\\n",
        "\t1\\begin{pmatrix}\n",
        "\t1 \\\\\n",
        "\t0\n",
        "\t\\end{pmatrix}\n",
        "\t\\end{pmatrix} = \\begin{pmatrix} 0 \\\\ 0 \\\\ 1 \\\\ 0 \\end{pmatrix}~~~ \t\\left|{11}\\right\\rangle = \\begin{pmatrix}\n",
        "\t0 \\begin{pmatrix}\n",
        "\t0  \\\\\n",
        "\t1\n",
        "\t\\end{pmatrix} \\\\\n",
        "\t1\\begin{pmatrix}\n",
        "\t0  \\\\\n",
        "\t1\n",
        "\t\\end{pmatrix}\n",
        "\t\\end{pmatrix} = \\begin{pmatrix} 0 \\\\ 0 \\\\ 0 \\\\1 \\end{pmatrix}\\end{split}\n",
        "\\end{equation}.$$\n",
        "\n",
        "Note we've introduced a shorthand for the tensor product of basis vectors, wherein $\\left|0\\right\\rangle \\otimes \\left|0\\right\\rangle$ is written as $\\left|00\\right\\rangle$. The state of an $n$-qubit system can be described using the $n$-fold tensor product of single-qubit basis vectors. Notice that the basis vectors for a 2-qubit system are 4-dimensional; in general, the basis vectors of an $n$-qubit system are $2^{n}$-dimensional, as noted earlier.\n",
        "\n",
        "### Basis vector ordering in Qiskit\n",
        "\n",
        "Within the physics community, the qubits of a multi-qubit systems are typically ordered with the first qubit on the left-most side of the tensor product and the last qubit on the right-most side. For instance, if the first qubit is in state $\\left|0\\right\\rangle$ and second is in state $\\left|1\\right\\rangle$, their joint state would be $\\left|01\\right\\rangle$. Qiskit uses a slightly different ordering of the qubits, in which the qubits are represented from the most significant bit (MSB) on the left to the least significant bit (LSB) on the right (little-endian). This is similar to bitstring representation on classical computers, and enables easy conversion from bitstrings to integers after measurements are performed. For the example just given, the joint state would be represented as $\\left|10\\right\\rangle$. Importantly, *this change in the representation of multi-qubit states affects the way multi-qubit gates are represented in Qiskit*, as discussed below.\n",
        "\n",
        "The representation used in Qiskit enumerates the basis vectors in increasing order of the integers they represent. For instance, the basis vectors for a 2-qubit system would be ordered as $\\left|00\\right\\rangle$, $\\left|01\\right\\rangle$, $\\left|10\\right\\rangle$, and $\\left|11\\right\\rangle$. Thinking of the basis vectors as bit strings, they encode the integers 0,1,2 and 3, respectively.\n",
        "\n",
        "\n",
        "### Controlled operations on qubits\n",
        "\n",
        "A common multi-qubit gate involves the application of a gate to one qubit, conditioned on the state of another qubit. For instance, we might want to flip the state of the second qubit when the first qubit is in $\\left|0\\right\\rangle$. Such gates are known as _controlled gates_. The standard multi-qubit gates consist of two-qubit gates and three-qubit gates. The two-qubit gates are:\n",
        "- controlled Pauli gates\n",
        "- controlled Hadamard gate\n",
        "- controlled rotation gates\n",
        "- controlled phase gate\n",
        "- controlled u3 gate\n",
        "- swap gate\n",
        "\n",
        "The three-qubit gates are:\n",
        "- Toffoli gate\n",
        "- Fredkin gate"
      ]
    },
    {
      "cell_type": "markdown",
      "metadata": {
        "id": "VDgGQrIVKEG2"
      },
      "source": [
        "## Two-qubit gates <a name=\"two_gates\"/>\n",
        "\n",
        "Most of the two-qubit gates are of the controlled type (the SWAP gate being the exception). In general, a controlled two-qubit gate $C_{U}$ acts to apply the single-qubit unitary $U$ to the second qubit when the state of the first qubit is in $\\left|1\\right\\rangle$. Suppose $U$ has a matrix representation\n",
        "\n",
        "$$U = \\begin{pmatrix} u_{00} & u_{01} \\\\ u_{10} & u_{11}\\end{pmatrix}.$$\n",
        "\n",
        "We can work out the action of $C_{U}$ as follows. Recall that the basis vectors for a two-qubit system are ordered as $\\left|00\\right\\rangle, \\left|01\\right\\rangle, \\left|10\\right\\rangle, \\left|11\\right\\rangle$. Suppose the **control qubit** is **qubit 0** (which, according to Qiskit's convention, is one the _right-hand_ side of the tensor product). If the control qubit is in $\\left|1\\right\\rangle$, $U$ should be applied to the **target** (qubit 1, on the _left-hand_ side of the tensor product). Therefore, under the action of $C_{U}$, the basis vectors are transformed according to\n",
        "\n",
        "$$\\begin{align*}\n",
        "C_{U}: \\underset{\\text{qubit}~1}{\\left|0\\right\\rangle}\\otimes \\underset{\\text{qubit}~0}{\\left|0\\right\\rangle} &\\rightarrow \\underset{\\text{qubit}~1}{\\left|0\\right\\rangle}\\otimes \\underset{\\text{qubit}~0}{\\left|0\\right\\rangle}\\\\\n",
        "C_{U}: \\underset{\\text{qubit}~1}{\\left|0\\right\\rangle}\\otimes \\underset{\\text{qubit}~0}{\\left|1\\right\\rangle} &\\rightarrow \\underset{\\text{qubit}~1}{U\\left|0\\right\\rangle}\\otimes \\underset{\\text{qubit}~0}{\\left|1\\right\\rangle}\\\\\n",
        "C_{U}: \\underset{\\text{qubit}~1}{\\left|1\\right\\rangle}\\otimes \\underset{\\text{qubit}~0}{\\left|0\\right\\rangle} &\\rightarrow \\underset{\\text{qubit}~1}{\\left|1\\right\\rangle}\\otimes \\underset{\\text{qubit}~0}{\\left|0\\right\\rangle}\\\\\n",
        "C_{U}: \\underset{\\text{qubit}~1}{\\left|1\\right\\rangle}\\otimes \\underset{\\text{qubit}~0}{\\left|1\\right\\rangle} &\\rightarrow \\underset{\\text{qubit}~1}{U\\left|1\\right\\rangle}\\otimes \\underset{\\text{qubit}~0}{\\left|1\\right\\rangle}\\\\\n",
        "\\end{align*}.$$\n",
        "\n",
        "In matrix form, the action of $C_{U}$ is\n",
        "\n",
        "$$\\begin{equation}\n",
        "\tC_U = \\begin{pmatrix}\n",
        "\t1 & 0 & 0 & 0 \\\\\n",
        "\t0 & u_{00} & 0 & u_{01} \\\\\n",
        "\t0 & 0 & 1 & 0 \\\\\n",
        "\t0 & u_{10} &0 & u_{11}\n",
        "\t\t\\end{pmatrix}.\n",
        "\\end{equation}$$\n",
        "\n",
        "To work out these matrix elements, let\n",
        "\n",
        "$$C_{(jk), (lm)} = \\left(\\underset{\\text{qubit}~1}{\\left\\langle j \\right|} \\otimes \\underset{\\text{qubit}~0}{\\left\\langle k \\right|}\\right) C_{U} \\left(\\underset{\\text{qubit}~1}{\\left| l \\right\\rangle} \\otimes \\underset{\\text{qubit}~0}{\\left| m \\right\\rangle}\\right),$$\n",
        "\n",
        "compute the action of $C_{U}$ (given above), and compute the inner products.\n",
        "\n",
        "As shown in the examples below, this operation is implemented in Qiskit as `cU(q[0],q[1])`.\n",
        "\n",
        "\n",
        "If **qubit 1 is the control and qubit 0 is the target**, then the basis vectors are transformed according to\n",
        "$$\\begin{align*}\n",
        "C_{U}: \\underset{\\text{qubit}~1}{\\left|0\\right\\rangle}\\otimes \\underset{\\text{qubit}~0}{\\left|0\\right\\rangle} &\\rightarrow \\underset{\\text{qubit}~1}{\\left|0\\right\\rangle}\\otimes \\underset{\\text{qubit}~0}{\\left|0\\right\\rangle}\\\\\n",
        "C_{U}: \\underset{\\text{qubit}~1}{\\left|0\\right\\rangle}\\otimes \\underset{\\text{qubit}~0}{\\left|1\\right\\rangle} &\\rightarrow \\underset{\\text{qubit}~1}{\\left|0\\right\\rangle}\\otimes \\underset{\\text{qubit}~0}{\\left|1\\right\\rangle}\\\\\n",
        "C_{U}: \\underset{\\text{qubit}~1}{\\left|1\\right\\rangle}\\otimes \\underset{\\text{qubit}~0}{\\left|0\\right\\rangle} &\\rightarrow \\underset{\\text{qubit}~1}{\\left|1\\right\\rangle}\\otimes \\underset{\\text{qubit}~0}{U\\left|0\\right\\rangle}\\\\\n",
        "C_{U}: \\underset{\\text{qubit}~1}{\\left|1\\right\\rangle}\\otimes \\underset{\\text{qubit}~0}{\\left|1\\right\\rangle} &\\rightarrow \\underset{\\text{qubit}~1}{\\left|1\\right\\rangle}\\otimes \\underset{\\text{qubit}~0}{U\\left|1\\right\\rangle}\\\\\n",
        "\\end{align*},$$\n",
        "\n",
        "\n",
        "which implies the matrix form of $C_{U}$ is\n",
        "$$\\begin{equation}\n",
        "\tC_U = \\begin{pmatrix}\n",
        "\t1 & 0 & 0  & 0 \\\\\n",
        "\t0 & 1 & 0 & 0 \\\\\n",
        "\t0 & 0 & u_{00} & u_{01} \\\\\n",
        "\t0 & 0 & u_{10} & u_{11}\n",
        "\t\t\\end{pmatrix}.\n",
        "\\end{equation}$$"
      ]
    },
    {
      "cell_type": "code",
      "execution_count": 42,
      "metadata": {
        "ExecuteTime": {
          "end_time": "2021-07-31T05:11:57.864527Z",
          "start_time": "2021-07-31T05:11:57.861603Z"
        },
        "id": "d-2D5xJLKEG3"
      },
      "outputs": [],
      "source": [
        "q = QuantumRegister(2)"
      ]
    },
    {
      "cell_type": "markdown",
      "metadata": {
        "id": "nJDSgPOOKEG3"
      },
      "source": [
        "### Controlled Pauli Gates\n",
        "\n",
        "#### Controlled-X (or, Controlled-NOT) gate\n",
        "The Controlled-NOT gate flips the `target` qubit when the control qubit is in the state $\\left|1\\right\\rangle$. If we take the MSB as the control qubit (e.g. `cx(q[1],q[0])`), then the matrix would look like\n",
        "\n",
        "$$\n",
        "C_X =\n",
        "\\begin{pmatrix}\n",
        "1 & 0 & 0 & 0\\\\\n",
        "0 & 1 & 0 & 0\\\\\n",
        "0 & 0 & 0 & 1\\\\\n",
        "0 & 0 & 1 & 0\n",
        "\\end{pmatrix}.\n",
        "$$\n",
        "\n",
        "However, when the LSB is the control qubit, (e.g. `cx(q[0],q[1])`), this gate is equivalent to the following matrix:\n",
        "\n",
        "$$\n",
        "C_X =\n",
        "\\begin{pmatrix}\n",
        "1 & 0 & 0 & 0\\\\\n",
        "0 & 0 & 0 & 1\\\\\n",
        "0 & 0 & 1 & 0\\\\\n",
        "0 & 1 & 0 & 0\n",
        "\\end{pmatrix}.\n",
        "$$\n",
        "\n"
      ]
    },
    {
      "cell_type": "code",
      "execution_count": 43,
      "metadata": {
        "ExecuteTime": {
          "end_time": "2021-07-31T05:11:59.251955Z",
          "start_time": "2021-07-31T05:11:59.245837Z"
        },
        "colab": {
          "base_uri": "https://localhost:8080/",
          "height": 94
        },
        "id": "t93dm5J1KEG4",
        "outputId": "7e816eb2-8704-40dd-8bac-d9307dbb17fe"
      },
      "outputs": [
        {
          "output_type": "execute_result",
          "data": {
            "text/plain": [
              "           \n",
              "q5_0: ──■──\n",
              "      ┌─┴─┐\n",
              "q5_1: ┤ X ├\n",
              "      └───┘"
            ],
            "text/html": [
              "<pre style=\"word-wrap: normal;white-space: pre;background: #fff0;line-height: 1.1;font-family: &quot;Courier New&quot;,Courier,monospace\">           \n",
              "q5_0: ──■──\n",
              "      ┌─┴─┐\n",
              "q5_1: ┤ X ├\n",
              "      └───┘</pre>"
            ]
          },
          "metadata": {},
          "execution_count": 43
        }
      ],
      "source": [
        "qc = QuantumCircuit(q)\n",
        "qc.cx(q[0],q[1])\n",
        "qc.draw()"
      ]
    },
    {
      "cell_type": "code",
      "execution_count": 44,
      "metadata": {
        "ExecuteTime": {
          "end_time": "2021-07-31T05:12:02.300793Z",
          "start_time": "2021-07-31T05:12:02.292637Z"
        },
        "colab": {
          "base_uri": "https://localhost:8080/"
        },
        "id": "W0SlkL2wKEG4",
        "outputId": "8e3d48f4-5bc1-4e9c-fc6a-41e7d475af1b"
      },
      "outputs": [
        {
          "output_type": "stream",
          "name": "stdout",
          "text": [
            "Operator([[1.+0.j, 0.+0.j, 0.+0.j, 0.+0.j],\n",
            "          [0.+0.j, 0.+0.j, 0.+0.j, 1.+0.j],\n",
            "          [0.+0.j, 0.+0.j, 1.+0.j, 0.+0.j],\n",
            "          [0.+0.j, 1.+0.j, 0.+0.j, 0.+0.j]],\n",
            "         input_dims=(2, 2), output_dims=(2, 2))\n"
          ]
        }
      ],
      "source": [
        "job = backend.run(qc)\n",
        "job.result().get_unitary(qc, decimals=3)"
      ]
    },
    {
      "cell_type": "markdown",
      "metadata": {
        "id": "wyAX0_jHKEG5"
      },
      "source": [
        "#### Controlled $Y$ gate\n",
        "\n",
        "Apply the $Y$ gate to the target qubit if the control qubit is the MSB\n",
        "\n",
        "$$\n",
        "C_Y =\n",
        "\\begin{pmatrix}\n",
        "1 & 0 & 0 & 0\\\\\n",
        "0 & 1 & 0 & 0\\\\\n",
        "0 & 0 & 0 & -i\\\\\n",
        "0 & 0 & i & 0\n",
        "\\end{pmatrix},\n",
        "$$\n",
        "\n",
        "or when the LSB is the control\n",
        "\n",
        "$$\n",
        "C_Y =\n",
        "\\begin{pmatrix}\n",
        "1 & 0 & 0 & 0\\\\\n",
        "0 & 0 & 0 & -i\\\\\n",
        "0 & 0 & 1 & 0\\\\\n",
        "0 & i & 0 & 0\n",
        "\\end{pmatrix}.\n",
        "$$"
      ]
    },
    {
      "cell_type": "code",
      "execution_count": 45,
      "metadata": {
        "ExecuteTime": {
          "end_time": "2021-07-31T05:12:04.293988Z",
          "start_time": "2021-07-31T05:12:04.285941Z"
        },
        "colab": {
          "base_uri": "https://localhost:8080/",
          "height": 94
        },
        "id": "_fAC9YcrKEG5",
        "outputId": "c6fcd1a3-509e-4a19-fc22-507c4841d07a"
      },
      "outputs": [
        {
          "output_type": "execute_result",
          "data": {
            "text/plain": [
              "           \n",
              "q5_0: ──■──\n",
              "      ┌─┴─┐\n",
              "q5_1: ┤ Y ├\n",
              "      └───┘"
            ],
            "text/html": [
              "<pre style=\"word-wrap: normal;white-space: pre;background: #fff0;line-height: 1.1;font-family: &quot;Courier New&quot;,Courier,monospace\">           \n",
              "q5_0: ──■──\n",
              "      ┌─┴─┐\n",
              "q5_1: ┤ Y ├\n",
              "      └───┘</pre>"
            ]
          },
          "metadata": {},
          "execution_count": 45
        }
      ],
      "source": [
        "qc = QuantumCircuit(q)\n",
        "qc.cy(q[0],q[1])\n",
        "qc.draw()"
      ]
    },
    {
      "cell_type": "code",
      "execution_count": 46,
      "metadata": {
        "ExecuteTime": {
          "end_time": "2021-07-31T05:12:07.042556Z",
          "start_time": "2021-07-31T05:12:07.031367Z"
        },
        "colab": {
          "base_uri": "https://localhost:8080/"
        },
        "id": "AfSRUuhuKEG5",
        "outputId": "55ee54e0-0261-407e-89df-40ca66efcb86"
      },
      "outputs": [
        {
          "output_type": "stream",
          "name": "stdout",
          "text": [
            "Operator([[1.+0.j, 0.+0.j, 0.+0.j, 0.+0.j],\n",
            "          [0.-0.j, 0.-0.j, 0.-0.j, 0.-1.j],\n",
            "          [0.+0.j, 0.+0.j, 1.+0.j, 0.+0.j],\n",
            "          [0.+0.j, 0.+1.j, 0.+0.j, 0.+0.j]],\n",
            "         input_dims=(2, 2), output_dims=(2, 2))\n"
          ]
        }
      ],
      "source": [
        "job = backend.run(qc)\n",
        "job.result().get_unitary(qc, decimals=3)"
      ]
    },
    {
      "cell_type": "markdown",
      "metadata": {
        "id": "rGVffpr0KEG5"
      },
      "source": [
        "#### Controlled $Z$ (or, controlled Phase-Flip) gate\n",
        "\n",
        "Similarly, the controlled Z gate flips the phase of the target qubit if the control qubit is $\\left|1\\right\\rangle$. The matrix looks the same regardless of whether the MSB or LSB is the control qubit:\n",
        "\n",
        "$$\n",
        "C_Z =\n",
        "\\begin{pmatrix}\n",
        "1 & 0 & 0 & 0\\\\\n",
        "0 & 1 & 0 & 0\\\\\n",
        "0 & 0 & 1 & 0\\\\\n",
        "0 & 0 & 0 & -1\n",
        "\\end{pmatrix}\n",
        "$$\n"
      ]
    },
    {
      "cell_type": "code",
      "execution_count": 47,
      "metadata": {
        "ExecuteTime": {
          "end_time": "2021-07-31T05:12:08.397786Z",
          "start_time": "2021-07-31T05:12:08.392065Z"
        },
        "colab": {
          "base_uri": "https://localhost:8080/",
          "height": 94
        },
        "id": "tR7v5YivKEG7",
        "outputId": "bb0f1804-6632-47dc-aa62-88b11bd9aa79"
      },
      "outputs": [
        {
          "output_type": "execute_result",
          "data": {
            "text/plain": [
              "         \n",
              "q5_0: ─■─\n",
              "       │ \n",
              "q5_1: ─■─\n",
              "         "
            ],
            "text/html": [
              "<pre style=\"word-wrap: normal;white-space: pre;background: #fff0;line-height: 1.1;font-family: &quot;Courier New&quot;,Courier,monospace\">         \n",
              "q5_0: ─■─\n",
              "       │ \n",
              "q5_1: ─■─\n",
              "         </pre>"
            ]
          },
          "metadata": {},
          "execution_count": 47
        }
      ],
      "source": [
        "qc = QuantumCircuit(q)\n",
        "qc.cz(q[0],q[1])\n",
        "qc.draw()"
      ]
    },
    {
      "cell_type": "code",
      "execution_count": 48,
      "metadata": {
        "ExecuteTime": {
          "end_time": "2021-07-31T05:12:10.259460Z",
          "start_time": "2021-07-31T05:12:10.246478Z"
        },
        "colab": {
          "base_uri": "https://localhost:8080/"
        },
        "id": "kDqg5MDLKEG7",
        "outputId": "1b88d998-bfba-4d36-a9d7-ef479b28bb79"
      },
      "outputs": [
        {
          "output_type": "stream",
          "name": "stdout",
          "text": [
            "Operator([[ 1.+0.j,  0.+0.j,  0.+0.j,  0.+0.j],\n",
            "          [ 0.+0.j,  1.+0.j,  0.+0.j,  0.+0.j],\n",
            "          [ 0.+0.j,  0.+0.j,  1.+0.j,  0.+0.j],\n",
            "          [-0.+0.j, -0.+0.j, -0.+0.j, -1.+0.j]],\n",
            "         input_dims=(2, 2), output_dims=(2, 2))\n"
          ]
        }
      ],
      "source": [
        "job = backend.run(qc)\n",
        "job.result().get_unitary(qc, decimals=3)"
      ]
    },
    {
      "cell_type": "markdown",
      "metadata": {
        "id": "lhSn3TNkKEG9"
      },
      "source": [
        "### Controlled $u$ rotation\n",
        "\n",
        "Perform controlled-$u$ rotation on the target qubit if the control qubit (here LSB) is $\\left|1\\right\\rangle$.\n",
        "\n",
        "$$\n",
        "C_{u}(\\theta, \\phi, \\lambda) \\equiv\n",
        "\\begin{pmatrix}\n",
        "1 & 0 & 0 & 0\\\\\n",
        "0 & e^{-i(\\phi+\\lambda)/2}\\cos(\\theta/2) & 0 & -e^{-i(\\phi-\\lambda)/2}\\sin(\\theta/2)\\\\\n",
        "0 & 0 & 1 & 0\\\\\n",
        "0 & e^{i(\\phi-\\lambda)/2}\\sin(\\theta/2) & 0 & e^{i(\\phi+\\lambda)/2}\\cos(\\theta/2)\n",
        "\\end{pmatrix}.\n",
        "$$"
      ]
    },
    {
      "cell_type": "code",
      "execution_count": 58,
      "metadata": {
        "ExecuteTime": {
          "end_time": "2021-07-31T05:13:19.155213Z",
          "start_time": "2021-07-31T05:13:19.148466Z"
        },
        "colab": {
          "base_uri": "https://localhost:8080/",
          "height": 94
        },
        "id": "tYBQXPyHKEG9",
        "outputId": "760cceb6-435c-4ee0-bece-2cf9b8a0fae8"
      },
      "outputs": [
        {
          "output_type": "execute_result",
          "data": {
            "text/plain": [
              "                          \n",
              "q5_0: ─────────■──────────\n",
              "      ┌────────┴─────────┐\n",
              "q5_1: ┤ U(π/2,π/2,π/2,0) ├\n",
              "      └──────────────────┘"
            ],
            "text/html": [
              "<pre style=\"word-wrap: normal;white-space: pre;background: #fff0;line-height: 1.1;font-family: &quot;Courier New&quot;,Courier,monospace\">                          \n",
              "q5_0: ─────────■──────────\n",
              "      ┌────────┴─────────┐\n",
              "q5_1: ┤ U(π/2,π/2,π/2,0) ├\n",
              "      └──────────────────┘</pre>"
            ]
          },
          "metadata": {},
          "execution_count": 58
        }
      ],
      "source": [
        "qc = QuantumCircuit(q)\n",
        "qc.cu(pi/2, pi/2, pi/2, 0, q[0], q[1])\n",
        "qc.draw()"
      ]
    },
    {
      "cell_type": "code",
      "execution_count": 59,
      "metadata": {
        "ExecuteTime": {
          "end_time": "2021-07-31T05:13:24.393740Z",
          "start_time": "2021-07-31T05:13:24.378958Z"
        },
        "colab": {
          "base_uri": "https://localhost:8080/"
        },
        "id": "EIfRwNwTKEG-",
        "outputId": "1eca6b71-7215-4d5e-e8df-cf773ae9b955"
      },
      "outputs": [
        {
          "output_type": "stream",
          "name": "stdout",
          "text": [
            "Operator([[ 1.   +0.j   ,  0.   +0.j   ,  0.   +0.j   ,  0.   +0.j   ],\n",
            "          [ 0.   +0.j   ,  0.707+0.j   ,  0.   +0.j   , -0.   -0.707j],\n",
            "          [ 0.   +0.j   ,  0.   +0.j   ,  1.   +0.j   ,  0.   +0.j   ],\n",
            "          [ 0.   +0.j   ,  0.   +0.707j,  0.   +0.j   , -0.707+0.j   ]],\n",
            "         input_dims=(2, 2), output_dims=(2, 2))\n"
          ]
        }
      ],
      "source": [
        "job = backend.run(qc)\n",
        "job.result().get_unitary(qc, decimals=3)"
      ]
    },
    {
      "cell_type": "markdown",
      "metadata": {
        "id": "l-rKj2HIKEG-"
      },
      "source": [
        "### SWAP gate\n",
        "\n",
        "The SWAP gate exchanges the two qubits. It transforms the basis vectors as\n",
        "\n",
        "$$\\left|00\\right\\rangle \\rightarrow \\left|00\\right\\rangle~,~\\left|01\\right\\rangle \\rightarrow \\left|10\\right\\rangle~,~\\left|10\\right\\rangle \\rightarrow \\left|01\\right\\rangle~,~\\left|11\\right\\rangle \\rightarrow \\left|11\\right\\rangle,$$\n",
        "\n",
        "which gives a matrix representation of the form\n",
        "\n",
        "$$\n",
        "\\mathrm{SWAP} =\n",
        "\\begin{pmatrix}\n",
        "1 & 0 & 0 & 0\\\\\n",
        "0 & 0 & 1 & 0\\\\\n",
        "0 & 1 & 0 & 0\\\\\n",
        "0 & 0 & 0 & 1\n",
        "\\end{pmatrix}.\n",
        "$$"
      ]
    },
    {
      "cell_type": "code",
      "execution_count": 56,
      "metadata": {
        "ExecuteTime": {
          "end_time": "2021-07-31T05:13:26.189896Z",
          "start_time": "2021-07-31T05:13:26.184311Z"
        },
        "colab": {
          "base_uri": "https://localhost:8080/",
          "height": 94
        },
        "id": "hNbOU_NLKEG-",
        "outputId": "fdd100f7-7e83-48a8-9a0f-21d7ef05467e"
      },
      "outputs": [
        {
          "output_type": "execute_result",
          "data": {
            "text/plain": [
              "         \n",
              "q5_0: ─X─\n",
              "       │ \n",
              "q5_1: ─X─\n",
              "         "
            ],
            "text/html": [
              "<pre style=\"word-wrap: normal;white-space: pre;background: #fff0;line-height: 1.1;font-family: &quot;Courier New&quot;,Courier,monospace\">         \n",
              "q5_0: ─X─\n",
              "       │ \n",
              "q5_1: ─X─\n",
              "         </pre>"
            ]
          },
          "metadata": {},
          "execution_count": 56
        }
      ],
      "source": [
        "qc = QuantumCircuit(q)\n",
        "qc.swap(q[0], q[1])\n",
        "qc.draw()"
      ]
    },
    {
      "cell_type": "code",
      "execution_count": 57,
      "metadata": {
        "ExecuteTime": {
          "end_time": "2021-07-31T05:13:28.555864Z",
          "start_time": "2021-07-31T05:13:28.545777Z"
        },
        "colab": {
          "base_uri": "https://localhost:8080/"
        },
        "id": "gQ_UzC31KEG-",
        "outputId": "9c8c91e2-8b70-4876-b2a3-83ecbbb450bd"
      },
      "outputs": [
        {
          "output_type": "stream",
          "name": "stdout",
          "text": [
            "Operator([[1.+0.j, 0.+0.j, 0.+0.j, 0.+0.j],\n",
            "          [0.+0.j, 0.+0.j, 1.+0.j, 0.+0.j],\n",
            "          [0.+0.j, 1.+0.j, 0.+0.j, 0.+0.j],\n",
            "          [0.+0.j, 0.+0.j, 0.+0.j, 1.+0.j]],\n",
            "         input_dims=(2, 2), output_dims=(2, 2))\n"
          ]
        }
      ],
      "source": [
        "job = backend.run(qc)\n",
        "job.result().get_unitary(qc, decimals=3)"
      ]
    },
    {
      "cell_type": "markdown",
      "metadata": {
        "id": "NJ91YVQ6KEHA"
      },
      "source": [
        "## Non-unitary operations <a name=\"non_unitary\"/>\n",
        "\n",
        "Now that we have gone through all the unitary operations in quantum circuits, we also have access to non-unitary operations. These include measurements, reset of qubits, and classical conditional operations."
      ]
    },
    {
      "cell_type": "code",
      "execution_count": 60,
      "metadata": {
        "ExecuteTime": {
          "end_time": "2021-07-31T05:13:39.580221Z",
          "start_time": "2021-07-31T05:13:39.576248Z"
        },
        "id": "1MMB9M5mKEHA"
      },
      "outputs": [],
      "source": [
        "q = QuantumRegister(1)\n",
        "c = ClassicalRegister(1)"
      ]
    },
    {
      "cell_type": "markdown",
      "metadata": {
        "id": "NknMKp1rKEHA"
      },
      "source": [
        "### Measurements\n",
        "\n",
        "We don't have access to all the information when we make a measurement in a quantum computer. The quantum state is projected onto the standard basis. Below are two examples showing a circuit that is prepared in a basis state and the quantum computer prepared in a superposition state."
      ]
    },
    {
      "cell_type": "code",
      "execution_count": 61,
      "metadata": {
        "ExecuteTime": {
          "end_time": "2021-07-31T05:13:40.203535Z",
          "start_time": "2021-07-31T05:13:40.197117Z"
        },
        "colab": {
          "base_uri": "https://localhost:8080/",
          "height": 94
        },
        "id": "RAJcLFwYKEHA",
        "outputId": "37ca537d-d7b9-4300-ba0b-0b74910f2d12"
      },
      "outputs": [
        {
          "output_type": "execute_result",
          "data": {
            "text/plain": [
              "      ┌─┐\n",
              "  q6: ┤M├\n",
              "      └╥┘\n",
              "c0: 1/═╩═\n",
              "       0 "
            ],
            "text/html": [
              "<pre style=\"word-wrap: normal;white-space: pre;background: #fff0;line-height: 1.1;font-family: &quot;Courier New&quot;,Courier,monospace\">      ┌─┐\n",
              "  q6: ┤M├\n",
              "      └╥┘\n",
              "c0: 1/═╩═\n",
              "       0 </pre>"
            ]
          },
          "metadata": {},
          "execution_count": 61
        }
      ],
      "source": [
        "qc = QuantumCircuit(q, c)\n",
        "qc.measure(q, c)\n",
        "qc.draw()"
      ]
    },
    {
      "cell_type": "code",
      "execution_count": 62,
      "metadata": {
        "ExecuteTime": {
          "end_time": "2021-07-31T05:13:47.891765Z",
          "start_time": "2021-07-31T05:13:47.879060Z"
        },
        "colab": {
          "base_uri": "https://localhost:8080/"
        },
        "id": "ccQgjxLdKEHA",
        "outputId": "a9d93c74-f5c6-492f-cd15-338e953954b9"
      },
      "outputs": [
        {
          "output_type": "execute_result",
          "data": {
            "text/plain": [
              "{'0': 1024}"
            ]
          },
          "metadata": {},
          "execution_count": 62
        }
      ],
      "source": [
        "backend = AerSimulator()\n",
        "job = backend.run(transpile(qc, backend))\n",
        "job.result().get_counts(qc)"
      ]
    },
    {
      "cell_type": "markdown",
      "metadata": {
        "id": "YQIUq509KEHA"
      },
      "source": [
        " The simulator predicts that 100 percent of the time the classical register returns 0."
      ]
    },
    {
      "cell_type": "code",
      "execution_count": 63,
      "metadata": {
        "ExecuteTime": {
          "end_time": "2021-07-31T05:13:49.501725Z",
          "start_time": "2021-07-31T05:13:49.495404Z"
        },
        "colab": {
          "base_uri": "https://localhost:8080/",
          "height": 94
        },
        "id": "NG0T0o5PKEHA",
        "outputId": "110e331b-432a-4989-9768-37bff3defbb9"
      },
      "outputs": [
        {
          "output_type": "execute_result",
          "data": {
            "text/plain": [
              "      ┌───┐┌─┐\n",
              "  q6: ┤ H ├┤M├\n",
              "      └───┘└╥┘\n",
              "c0: 1/══════╩═\n",
              "            0 "
            ],
            "text/html": [
              "<pre style=\"word-wrap: normal;white-space: pre;background: #fff0;line-height: 1.1;font-family: &quot;Courier New&quot;,Courier,monospace\">      ┌───┐┌─┐\n",
              "  q6: ┤ H ├┤M├\n",
              "      └───┘└╥┘\n",
              "c0: 1/══════╩═\n",
              "            0 </pre>"
            ]
          },
          "metadata": {},
          "execution_count": 63
        }
      ],
      "source": [
        "qc = QuantumCircuit(q, c)\n",
        "qc.h(q)\n",
        "qc.measure(q, c)\n",
        "qc.draw()"
      ]
    },
    {
      "cell_type": "code",
      "execution_count": 64,
      "metadata": {
        "ExecuteTime": {
          "end_time": "2021-07-31T05:13:51.913804Z",
          "start_time": "2021-07-31T05:13:51.902540Z"
        },
        "colab": {
          "base_uri": "https://localhost:8080/"
        },
        "id": "-9HGy0F6KEHA",
        "outputId": "5650d860-a38f-4de2-abf2-bede402378cc"
      },
      "outputs": [
        {
          "output_type": "execute_result",
          "data": {
            "text/plain": [
              "{'0': 519, '1': 505}"
            ]
          },
          "metadata": {},
          "execution_count": 64
        }
      ],
      "source": [
        "job = backend.run(transpile(qc, backend))\n",
        "job.result().get_counts(qc)"
      ]
    },
    {
      "cell_type": "markdown",
      "metadata": {
        "id": "yb1bTjxTKEHB"
      },
      "source": [
        " The simulator predicts that 50 percent of the time the classical register returns 0 or 1."
      ]
    }
  ],
  "metadata": {
    "anaconda-cloud": {},
    "kernelspec": {
      "display_name": "Python 3",
      "language": "python",
      "name": "python3"
    },
    "language_info": {
      "codemirror_mode": {
        "name": "ipython",
        "version": 3
      },
      "file_extension": ".py",
      "mimetype": "text/x-python",
      "name": "python",
      "nbconvert_exporter": "python",
      "pygments_lexer": "ipython3",
      "version": "3.7.7"
    },
    "varInspector": {
      "cols": {
        "lenName": 16,
        "lenType": 16,
        "lenVar": 40
      },
      "kernels_config": {
        "python": {
          "delete_cmd_postfix": "",
          "delete_cmd_prefix": "del ",
          "library": "var_list.py",
          "varRefreshCmd": "print(var_dic_list())"
        },
        "r": {
          "delete_cmd_postfix": ") ",
          "delete_cmd_prefix": "rm(",
          "library": "var_list.r",
          "varRefreshCmd": "cat(var_dic_list()) "
        }
      },
      "types_to_exclude": [
        "module",
        "function",
        "builtin_function_or_method",
        "instance",
        "_Feature"
      ],
      "window_display": false
    },
    "colab": {
      "provenance": []
    }
  },
  "nbformat": 4,
  "nbformat_minor": 0
}
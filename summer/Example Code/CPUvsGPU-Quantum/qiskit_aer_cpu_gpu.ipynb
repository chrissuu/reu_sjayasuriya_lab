{
 "cells": [
  {
   "cell_type": "code",
   "execution_count": 4,
   "id": "8dbc78c7-d904-464d-8d83-940ef8a173c8",
   "metadata": {
    "tags": []
   },
   "outputs": [
    {
     "name": "stdout",
     "output_type": "stream",
     "text": [
      "Requirement already satisfied: qiskit in c:\\users\\gueha\\anaconda3\\envs\\quantum\\lib\\site-packages (0.36.2)\n",
      "Requirement already satisfied: qiskit-aer in c:\\users\\gueha\\anaconda3\\envs\\quantum\\lib\\site-packages (0.10.4)\n",
      "Requirement already satisfied: qiskit-ignis==0.7.1 in c:\\users\\gueha\\anaconda3\\envs\\quantum\\lib\\site-packages (from qiskit) (0.7.1)\n",
      "Requirement already satisfied: qiskit-terra==0.20.2 in c:\\users\\gueha\\anaconda3\\envs\\quantum\\lib\\site-packages (from qiskit) (0.20.2)\n",
      "Requirement already satisfied: qiskit-ibmq-provider==0.19.1 in c:\\users\\gueha\\anaconda3\\envs\\quantum\\lib\\site-packages (from qiskit) (0.19.1)\n",
      "Requirement already satisfied: scipy>=1.0 in c:\\users\\gueha\\anaconda3\\envs\\quantum\\lib\\site-packages (from qiskit-aer) (1.8.1)\n",
      "Requirement already satisfied: numpy>=1.16.3 in c:\\users\\gueha\\anaconda3\\envs\\quantum\\lib\\site-packages (from qiskit-aer) (1.22.4)\n",
      "Requirement already satisfied: websocket-client>=1.0.1 in c:\\users\\gueha\\anaconda3\\envs\\quantum\\lib\\site-packages (from qiskit-ibmq-provider==0.19.1->qiskit) (1.3.2)\n",
      "Requirement already satisfied: requests-ntlm>=1.1.0 in c:\\users\\gueha\\anaconda3\\envs\\quantum\\lib\\site-packages (from qiskit-ibmq-provider==0.19.1->qiskit) (1.1.0)\n",
      "Requirement already satisfied: urllib3>=1.21.1 in c:\\users\\gueha\\anaconda3\\envs\\quantum\\lib\\site-packages (from qiskit-ibmq-provider==0.19.1->qiskit) (1.26.9)\n",
      "Requirement already satisfied: python-dateutil>=2.8.0 in c:\\users\\gueha\\anaconda3\\envs\\quantum\\lib\\site-packages (from qiskit-ibmq-provider==0.19.1->qiskit) (2.8.2)\n",
      "Requirement already satisfied: websockets>=10.0 in c:\\users\\gueha\\anaconda3\\envs\\quantum\\lib\\site-packages (from qiskit-ibmq-provider==0.19.1->qiskit) (10.3)\n",
      "Requirement already satisfied: requests>=2.19 in c:\\users\\gueha\\anaconda3\\envs\\quantum\\lib\\site-packages (from qiskit-ibmq-provider==0.19.1->qiskit) (2.27.1)\n",
      "Requirement already satisfied: retworkx>=0.8.0 in c:\\users\\gueha\\anaconda3\\envs\\quantum\\lib\\site-packages (from qiskit-ignis==0.7.1->qiskit) (0.11.0)\n",
      "Requirement already satisfied: setuptools>=40.1.0 in c:\\users\\gueha\\anaconda3\\envs\\quantum\\lib\\site-packages (from qiskit-ignis==0.7.1->qiskit) (61.2.0)\n",
      "Requirement already satisfied: sympy>=1.3 in c:\\users\\gueha\\anaconda3\\envs\\quantum\\lib\\site-packages (from qiskit-terra==0.20.2->qiskit) (1.10.1)\n",
      "Requirement already satisfied: dill>=0.3 in c:\\users\\gueha\\anaconda3\\envs\\quantum\\lib\\site-packages (from qiskit-terra==0.20.2->qiskit) (0.3.5.1)\n",
      "Requirement already satisfied: tweedledum<2.0,>=1.1 in c:\\users\\gueha\\anaconda3\\envs\\quantum\\lib\\site-packages (from qiskit-terra==0.20.2->qiskit) (1.1.1)\n",
      "Requirement already satisfied: python-constraint>=1.4 in c:\\users\\gueha\\anaconda3\\envs\\quantum\\lib\\site-packages (from qiskit-terra==0.20.2->qiskit) (1.4.0)\n",
      "Requirement already satisfied: ply>=3.10 in c:\\users\\gueha\\anaconda3\\envs\\quantum\\lib\\site-packages (from qiskit-terra==0.20.2->qiskit) (3.11)\n",
      "Requirement already satisfied: psutil>=5 in c:\\users\\gueha\\anaconda3\\envs\\quantum\\lib\\site-packages (from qiskit-terra==0.20.2->qiskit) (5.9.1)\n",
      "Requirement already satisfied: stevedore>=3.0.0 in c:\\users\\gueha\\anaconda3\\envs\\quantum\\lib\\site-packages (from qiskit-terra==0.20.2->qiskit) (3.5.0)\n",
      "Requirement already satisfied: six>=1.5 in c:\\users\\gueha\\anaconda3\\envs\\quantum\\lib\\site-packages (from python-dateutil>=2.8.0->qiskit-ibmq-provider==0.19.1->qiskit) (1.16.0)\n",
      "Requirement already satisfied: certifi>=2017.4.17 in c:\\users\\gueha\\anaconda3\\envs\\quantum\\lib\\site-packages (from requests>=2.19->qiskit-ibmq-provider==0.19.1->qiskit) (2022.12.7)\n",
      "Requirement already satisfied: charset-normalizer~=2.0.0 in c:\\users\\gueha\\anaconda3\\envs\\quantum\\lib\\site-packages (from requests>=2.19->qiskit-ibmq-provider==0.19.1->qiskit) (2.0.4)\n",
      "Requirement already satisfied: idna<4,>=2.5 in c:\\users\\gueha\\anaconda3\\envs\\quantum\\lib\\site-packages (from requests>=2.19->qiskit-ibmq-provider==0.19.1->qiskit) (3.3)\n",
      "Requirement already satisfied: cryptography>=1.3 in c:\\users\\gueha\\anaconda3\\envs\\quantum\\lib\\site-packages (from requests-ntlm>=1.1.0->qiskit-ibmq-provider==0.19.1->qiskit) (37.0.1)\n",
      "Requirement already satisfied: ntlm-auth>=1.0.2 in c:\\users\\gueha\\anaconda3\\envs\\quantum\\lib\\site-packages (from requests-ntlm>=1.1.0->qiskit-ibmq-provider==0.19.1->qiskit) (1.5.0)\n",
      "Requirement already satisfied: cffi>=1.12 in c:\\users\\gueha\\anaconda3\\envs\\quantum\\lib\\site-packages (from cryptography>=1.3->requests-ntlm>=1.1.0->qiskit-ibmq-provider==0.19.1->qiskit) (1.15.0)\n",
      "Requirement already satisfied: pycparser in c:\\users\\gueha\\anaconda3\\envs\\quantum\\lib\\site-packages (from cffi>=1.12->cryptography>=1.3->requests-ntlm>=1.1.0->qiskit-ibmq-provider==0.19.1->qiskit) (2.21)\n",
      "Requirement already satisfied: pbr!=2.1.0,>=2.0.0 in c:\\users\\gueha\\anaconda3\\envs\\quantum\\lib\\site-packages (from stevedore>=3.0.0->qiskit-terra==0.20.2->qiskit) (5.9.0)\n",
      "Requirement already satisfied: mpmath>=0.19 in c:\\users\\gueha\\anaconda3\\envs\\quantum\\lib\\site-packages (from sympy>=1.3->qiskit-terra==0.20.2->qiskit) (1.2.1)\n"
     ]
    }
   ],
   "source": [
    "!pip install qiskit qiskit-aer"
   ]
  },
  {
   "cell_type": "code",
   "execution_count": 6,
   "id": "7042c375-d97e-43ff-9231-daa92b310840",
   "metadata": {},
   "outputs": [
    {
     "ename": "ModuleNotFoundError",
     "evalue": "No module named 'qiskit_aer'",
     "output_type": "error",
     "traceback": [
      "\u001b[1;31m---------------------------------------------------------------------------\u001b[0m",
      "\u001b[1;31mModuleNotFoundError\u001b[0m                       Traceback (most recent call last)",
      "Input \u001b[1;32mIn [6]\u001b[0m, in \u001b[0;36m<cell line: 2>\u001b[1;34m()\u001b[0m\n\u001b[0;32m      1\u001b[0m \u001b[38;5;28;01mimport\u001b[39;00m \u001b[38;5;21;01mqiskit\u001b[39;00m\n\u001b[1;32m----> 2\u001b[0m \u001b[38;5;28;01mimport\u001b[39;00m \u001b[38;5;21;01mqiskit_aer\u001b[39;00m\u001b[38;5;21;01m.\u001b[39;00m\u001b[38;5;21;01mnoise\u001b[39;00m \u001b[38;5;28;01mas\u001b[39;00m \u001b[38;5;21;01mnoise\u001b[39;00m\n\u001b[0;32m      3\u001b[0m \u001b[38;5;28;01mfrom\u001b[39;00m \u001b[38;5;21;01mqiskit\u001b[39;00m \u001b[38;5;28;01mimport\u001b[39;00m IBMQ, Aer\n\u001b[0;32m      4\u001b[0m \u001b[38;5;28;01mfrom\u001b[39;00m \u001b[38;5;21;01mqiskit_aer\u001b[39;00m \u001b[38;5;28;01mimport\u001b[39;00m AerSimulator\n",
      "\u001b[1;31mModuleNotFoundError\u001b[0m: No module named 'qiskit_aer'"
     ]
    }
   ],
   "source": [
    "import qiskit\n",
    "import qiskit_aer.noise as noise\n",
    "from qiskit import IBMQ, Aer\n",
    "from qiskit_aer import AerSimulator\n",
    "from qiskit.visualization import plot_histogram\n",
    "\n",
    "#Generate 3-qubit GHZ state\n",
    "circ = qiskit.QuantumCircuit(3)\n",
    "circ.h(0)\n",
    "circ.cx(0, 1)\n",
    "circ.cx(1, 2)\n",
    "circ.measure_all()\n",
    "\n",
    "# Construct an ideal simulator\n",
    "aersim = AerSimulator()\n",
    "\n",
    "# Perform an ideal simulation\n",
    "result_ideal = qiskit.execute(circ, aersim).result()\n",
    "counts_ideal = result_ideal.get_counts(0)\n",
    "print('Counts(ideal):', counts_ideal)\n",
    "\n",
    "# Construct a noisy simulator backend from an IBMQ backend\n",
    "# This simulator backend will be automatically configured\n",
    "# using the device configuration and noise model \n",
    "#provider = IBMQ.load_account()\n",
    "#backend = provider.get_backend('ibmq_athens')\n",
    "#aersim_backend = AerSimulator.from_backend(backend)\n",
    "# Error probabilities\n",
    "prob_1 = 0.001  # 1-qubit gate\n",
    "prob_2 = 0.01   # 2-qubit gate\n",
    "\n",
    "# Depolarizing quantum errors\n",
    "error_1 = noise.depolarizing_error(prob_1, 1)\n",
    "error_2 = noise.depolarizing_error(prob_2, 2)\n",
    "\n",
    "# Add errors to noise model\n",
    "noise_model = noise.NoiseModel()\n",
    "noise_model.add_all_qubit_quantum_error(error_1, ['u1', 'u2', 'u3'])\n",
    "noise_model.add_all_qubit_quantum_error(error_2, ['cx'])\n",
    "# Get basis gates from noise model\n",
    "basis_gates = noise_model.basis_gates\n",
    "\n",
    "aersim_backend = AerSimulator(device=\"GPU\")\n",
    "\n",
    "# Perform noisy simulation\n",
    "result_noise = qiskit.execute(circ, aersim_backend, \n",
    "                            basis_gates=basis_gates,noise_model=noise_model).result()\n",
    "counts_noise = result_noise.get_counts(0)\n",
    "\n",
    "print('Counts(noise):', counts_noise)\n",
    "\n",
    "plot_histogram(counts_noise)\n"
   ]
  },
  {
   "cell_type": "code",
   "execution_count": 15,
   "id": "150fe6b3-d8a5-44f6-9cca-d96c214d1f9e",
   "metadata": {},
   "outputs": [
    {
     "name": "stdout",
     "output_type": "stream",
     "text": [
      "Simulation times on CPU: [0.029088819, 0.063515784, 0.125947515, 0.284175511, 0.582500379, 1.28622323, 2.251495086, 4.847139822, 9.762105147, 21.294847965, 46.02832246, 100.69839005, 214.356136071]\n",
      "Simulation times on GPU: [0.001663248, 0.001329978, 0.001444174, 0.001524135, 0.002016648, 0.002840637, 0.005671366, 0.010115951, 0.0176741, 0.035978902, 0.068655002, 0.149603996, 0.298651278]\n"
     ]
    },
    {
     "data": {
      "text/plain": [
       "Text(0, 0.5, 'Simulation time (s)')"
      ]
     },
     "execution_count": 15,
     "metadata": {},
     "output_type": "execute_result"
    },
    {
     "data": {
      "image/png": "[encoded data removed]",
      "text/plain": [
       "<Figure size 432x288 with 1 Axes>"
      ]
     },
     "metadata": {
      "needs_background": "light"
     },
     "output_type": "display_data"
    }
   ],
   "source": [
    "from qiskit import *\n",
    "from qiskit.circuit.library import *\n",
    "from qiskit.providers.aer import *\n",
    "import matplotlib.pyplot as plt\n",
    "\n",
    "sim_gpu = AerSimulator(method='statevector', device='GPU')\n",
    "sim_cpu = AerSimulator(method='statevector', device='CPU')\n",
    "\n",
    "shots = 100\n",
    "depth=10\n",
    "\n",
    "time_cpu= []\n",
    "time_gpu= []\n",
    "qubits_list = []\n",
    "\n",
    "for qubits in range (15, 28):\n",
    "    qubits_list.append(qubits)\n",
    "    circuit_cpu = QuantumVolume(qubits, depth, seed=0)\n",
    "    circuit_cpu.measure_all()\n",
    "    circuit_cpu = transpile(circuit_cpu, sim_cpu)\n",
    "    result_cpu = sim_cpu.run(circuit_cpu,sim_cpu,shots=shots,seed_simulator=12345,fusion_threshold=20).result()\n",
    "    #counts = result.get_counts()\n",
    "    time_cpu.append(float(result_cpu.to_dict()['results'][0]['time_taken']))\n",
    "    \n",
    "    circuit_gpu = QuantumVolume(qubits, depth, seed=0)\n",
    "    circuit_gpu.measure_all()\n",
    "    circuit_gpu = transpile(circuit_gpu, sim_gpu)\n",
    "    result_gpu = sim_gpu.run(circuit_gpu,sim_gpu,shots=shots,seed_simulator=12345,fusion_threshold=20).result()\n",
    "    #counts = result.get_counts()\n",
    "    time_gpu.append(float(result_gpu.to_dict()['results'][0]['time_taken']))\n",
    "\n",
    "print(\"Simulation times on CPU:\", time_cpu, end='\\n')\n",
    "print(\"Simulation times on GPU:\", time_gpu, end='\\n')\n",
    "plt.yscale(\"log\")\n",
    "plt.plot(qubits_list, time_cpu, marker=\"o\", label='CPU')\n",
    "plt.plot(qubits_list, time_gpu, 'g', marker=\"x\", label='GPU')\n",
    "plt.legend()\n",
    "plt.xlabel(\"# of qubits\")\n",
    "plt.ylabel(\"Simulation time (s)\")"
   ]
  },
  {
   "cell_type": "code",
   "execution_count": 14,
   "id": "ff76a5aa-7522-49da-81e2-776e52502282",
   "metadata": {},
   "outputs": [
    {
     "data": {
      "image/png": "[encoded data removed]",
      "text/plain": [
       "<Figure size 432x288 with 1 Axes>"
      ]
     },
     "metadata": {
      "needs_background": "light"
     },
     "output_type": "display_data"
    }
   ],
   "source": [
    "f = plt.figure()\n",
    "ax=f.add_subplot(111)\n",
    "plt.yscale(\"log\")\n",
    "plt.plot(qubits_list, time_cpu, marker=\"o\", label='CPU')\n",
    "plt.plot(qubits_list, time_gpu, 'g', marker=\"x\", label='GPU')\n",
    "plt.legend()\n",
    "plt.xlabel(\"# of qubits\")\n",
    "plt.ylabel(\"Simulation time (s)\")\n",
    "\n",
    "ax.yaxis.set_label_position(\"right\")\n",
    "ax.yaxis.tick_right()"
   ]
  },
  {
   "cell_type": "code",
   "execution_count": null,
   "id": "5a2a7385-8ea2-478b-ac3a-b4cd28bcdb6a",
   "metadata": {},
   "outputs": [],
   "source": []
  }
 ],
 "metadata": {
  "kernelspec": {
   "display_name": "Python 3 (ipykernel)",
   "language": "python",
   "name": "python3"
  },
  "language_info": {
   "codemirror_mode": {
    "name": "ipython",
    "version": 3
   },
   "file_extension": ".py",
   "mimetype": "text/x-python",
   "name": "python",
   "nbconvert_exporter": "python",
   "pygments_lexer": "ipython3",
   "version": "3.10.4"
  }
 },
 "nbformat": 4,
 "nbformat_minor": 5
}
